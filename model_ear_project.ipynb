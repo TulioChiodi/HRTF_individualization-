{
  "nbformat": 4,
  "nbformat_minor": 0,
  "metadata": {
    "colab": {
      "name": "model_ear_project.ipynb",
      "provenance": [],
      "collapsed_sections": [
        "_K0f_d4bma4F"
      ],
      "mount_file_id": "1leJPjjHUsi01_S2ysSHs9v0WzzgewisD",
      "authorship_tag": "ABX9TyOLNNf8zBB5bxnm6NGm+ipd",
      "include_colab_link": true
    },
    "kernelspec": {
      "name": "python3",
      "display_name": "Python 3"
    },
    "accelerator": "GPU"
  },
  "cells": [
    {
      "cell_type": "markdown",
      "metadata": {
        "id": "view-in-github",
        "colab_type": "text"
      },
      "source": [
        "<a href=\"https://colab.research.google.com/github/TulioChiodi/HRTF_individualization-/blob/python-code/model_ear_project.ipynb\" target=\"_parent\"><img src=\"https://colab.research.google.com/assets/colab-badge.svg\" alt=\"Open In Colab\"/></a>"
      ]
    },
    {
      "cell_type": "markdown",
      "metadata": {
        "id": "_K0f_d4bma4F",
        "colab_type": "text"
      },
      "source": [
        "## Using TensorBoard"
      ]
    },
    {
      "cell_type": "code",
      "metadata": {
        "id": "HguM2dTkkc4D",
        "colab_type": "code",
        "outputId": "eb0cef79-1ae5-4fa1-a813-5b5aad618dd7",
        "colab": {
          "base_uri": "https://localhost:8080/",
          "height": 295
        }
      },
      "source": [
        "# !wget https://bin.equinox.io/c/4VmDzA7iaHb/ngrok-stable-linux-amd64.zip\n",
        "# !unzip ngrok-stable-linux-amd64.zip"
      ],
      "execution_count": 0,
      "outputs": [
        {
          "output_type": "stream",
          "text": [
            "--2020-03-16 09:01:31--  https://bin.equinox.io/c/4VmDzA7iaHb/ngrok-stable-linux-amd64.zip\n",
            "Resolving bin.equinox.io (bin.equinox.io)... 52.20.185.228, 34.196.154.11, 52.87.72.17, ...\n",
            "Connecting to bin.equinox.io (bin.equinox.io)|52.20.185.228|:443... connected.\n",
            "HTTP request sent, awaiting response... 200 OK\n",
            "Length: 13773305 (13M) [application/octet-stream]\n",
            "Saving to: ‘ngrok-stable-linux-amd64.zip’\n",
            "\n",
            "ngrok-stable-linux- 100%[===================>]  13.13M  25.6MB/s    in 0.5s    \n",
            "\n",
            "2020-03-16 09:01:32 (25.6 MB/s) - ‘ngrok-stable-linux-amd64.zip’ saved [13773305/13773305]\n",
            "\n",
            "Archive:  ngrok-stable-linux-amd64.zip\n",
            "  inflating: ngrok                   \n"
          ],
          "name": "stdout"
        }
      ]
    },
    {
      "cell_type": "code",
      "metadata": {
        "id": "NMj5l0kJkizV",
        "colab_type": "code",
        "colab": {}
      },
      "source": [
        "# import os\n",
        "# LOG_DIR = 'runs'\n",
        "# os.makedirs(LOG_DIR, exist_ok=True)\n",
        "# get_ipython().system_raw(\n",
        "#     'tensorboard --logdir {} --host 0.0.0.0 --port 6006 &'\n",
        "#     .format(LOG_DIR))"
      ],
      "execution_count": 0,
      "outputs": []
    },
    {
      "cell_type": "code",
      "metadata": {
        "id": "2_cQZHoikUcr",
        "colab_type": "code",
        "colab": {}
      },
      "source": [
        "# get_ipython().system_raw('./ngrok http 6006 &')"
      ],
      "execution_count": 0,
      "outputs": []
    },
    {
      "cell_type": "code",
      "metadata": {
        "id": "YACo-aXFkXfk",
        "colab_type": "code",
        "outputId": "245da73c-e770-415a-9d7e-ecf6297c4ea4",
        "colab": {
          "base_uri": "https://localhost:8080/",
          "height": 38
        }
      },
      "source": [
        "# ! curl -s http://localhost:4040/api/tunnels | python3 -c \\\n",
        "#     \"import sys, json; print(json.load(sys.stdin)['tunnels'][0]['public_url'])\""
      ],
      "execution_count": 0,
      "outputs": [
        {
          "output_type": "stream",
          "text": [
            "http://93334829.ngrok.io\n"
          ],
          "name": "stdout"
        }
      ]
    },
    {
      "cell_type": "markdown",
      "metadata": {
        "id": "WRmBtrj7miZi",
        "colab_type": "text"
      },
      "source": [
        "## Declaring variables:"
      ]
    },
    {
      "cell_type": "code",
      "metadata": {
        "id": "gVRAN-7vlFFS",
        "colab_type": "code",
        "colab": {}
      },
      "source": [
        "from torch.utils.tensorboard import SummaryWriter\n",
        "# load data from loader\n",
        "images, labels = next(iter(train_dataloader))\n",
        "\n",
        "images = images.to('cuda')\n",
        "labels = labels.to('cuda')\n",
        "\n",
        "tb = SummaryWriter()\n",
        "tb.add_images(\"Image\", images)\n",
        "tb.add_graph(net, images)\n",
        "for i in range(1, 20):\n",
        "    tb.add_scalar(\"Tag\", 10/i, i)\n",
        "    \n",
        "tb.close()"
      ],
      "execution_count": 0,
      "outputs": []
    },
    {
      "cell_type": "code",
      "metadata": {
        "colab_type": "code",
        "id": "joH_DyhPGtgv",
        "colab": {}
      },
      "source": [
        "from __future__ import print_function, division\n",
        "from pathlib import Path\n",
        "import os\n",
        "import torch\n",
        "import pandas as pd\n",
        "from skimage import io, transform\n",
        "import numpy as np\n",
        "import matplotlib.pyplot as plt\n",
        "from torch.utils.data import Dataset, DataLoader, random_split\n",
        "from torchvision import transforms, utils\n",
        "import torchvision\n",
        "import torch.nn as nn\n",
        "import torch.nn.functional as F\n",
        "from IPython.core.debugger import set_trace\n",
        "import cv2\n",
        "from PIL import Image\n",
        "import random\n",
        "\n",
        "# Ignore warnings\n",
        "import warnings\n",
        "warnings.filterwarnings(\"ignore\")\n",
        "\n",
        "plt.ion()   # interactive mode\n",
        "\n",
        "path = Path('drive/My Drive/Colab/Ear_Project')\n",
        "if not os.path.exists('./dataset'):\n",
        "   os.chdir(path)\n",
        "\n",
        "#reproducibility\n",
        "\n",
        "random.seed(420)\n",
        "torch.manual_seed(420)\n",
        "torch.cuda.manual_seed(420)\n",
        "np.random.seed(420)\n",
        "torch.backends.cudnn.deterministic = True\n",
        "torch.backends.cudnn.benchmark = False"
      ],
      "execution_count": 0,
      "outputs": []
    },
    {
      "cell_type": "code",
      "metadata": {
        "id": "NG2NldVDwCo-",
        "colab_type": "code",
        "colab": {}
      },
      "source": [
        "class AutoCanny():\n",
        "  def __call__(self,sample):\n",
        "    img, label = sample['image'], sample['label']\n",
        "    img = np.asarray(img)\n",
        "    img = cv2.bilateralFilter(img, 4, 70, 110)\n",
        "    img = auto_canny(img)\n",
        "\n",
        "    return {'image': img.astype(np.float32) ,'label': label}\n",
        "\n",
        "class Padding():\n",
        "  def __call__(self,sample):\n",
        "    img, label = sample['image'], sample['label']\n",
        "    w, h = img.size[:2]\n",
        "    pad_width, pad_height = (max(0,h-w), max(0,w-h))\n",
        "\n",
        "    if pad_width % 2 == 0:\n",
        "      pad_right = pad_left = int(pad_width/2)\n",
        "    else:\n",
        "      pad_right = int(pad_width/2)\n",
        "      pad_left = int(pad_width/2) + 1\n",
        "\n",
        "    if pad_height % 2 == 0:\n",
        "      pad_top = pad_bottom = int(pad_height/2)\n",
        "    else:\n",
        "      pad_top = int(pad_height/2)\n",
        "      pad_bottom = int(pad_height/2) + 1\n",
        "\n",
        "    img = transforms.functional.pad(img, padding=(pad_left, pad_top, pad_right, pad_bottom))\n",
        "    \n",
        "\n",
        "    return {'image': img, 'label': label}\n",
        "\n",
        "class Resize():\n",
        "  def __call__(self, sample):\n",
        "    img, label = sample['image'], sample['label']\n",
        "    img = transforms.functional.resize(img, 96)\n",
        "    # set_trace()\n",
        "    # img = np.asarray(img)\n",
        "    # img = cv2.resize(img,(96,96),interpolation = cv2.INTER_AREA)\n",
        "    return {'image': img, 'label': label}\n",
        "\n",
        "class ToTensor(object):\n",
        "  \"\"\"Convert ndarrays in sample to Tensors.\"\"\"\n",
        "\n",
        "  def __call__(self, sample):\n",
        "      img, label = (sample['image'], sample['label'])      \n",
        "      # swap color axis because\n",
        "      # numpy image: H x W x C\n",
        "      # torch image: C X H X W\n",
        "      img = img.reshape(96,96,1)\n",
        "      img = img.transpose((2, 0, 1))\n",
        "      return {'image': torch.from_numpy(img), 'label': torch.from_numpy(label)}\n",
        "\n",
        "class Normalize():\n",
        "  def __init__(self, mean, std, inplace=False):\n",
        "    self.mean = mean\n",
        "    self.std = std\n",
        "    self.inplace = inplace\n",
        "\n",
        "  def __call__(self, sample):\n",
        "    img, label = sample['image'], sample['label']\n",
        "\n",
        "    return transforms.functional.normalize(img, self.mean, self.std, self.inplace), label\n",
        "\n",
        "\n",
        "def auto_canny(image, sigma=0.6):\n",
        "\tv = np.median(image)\n",
        "\tlower = int(max(0, (1.0 - sigma) * v))\n",
        "\tupper = int(min(255, (1.0 + sigma) * v))\n",
        "\tedged = cv2.Canny(image, lower, upper)\n",
        "\n",
        "\treturn edged\n",
        "  #edged.astype(np.float32)\n",
        "\n",
        "\n",
        "def show_batch(batch):\n",
        "  images_batch, label = batch\n",
        "\n",
        "  grid = utils.make_grid(images_batch)\n",
        "  for img in images_batch:\n",
        "    print (img.shape)\n",
        "    # print(f'Min pixel value: {min(img)},\\nMax pixel value: {max(img)}')\n",
        "  plt.imshow(grid.numpy().transpose(1,2,0))\n",
        "\n"
      ],
      "execution_count": 0,
      "outputs": []
    },
    {
      "cell_type": "code",
      "metadata": {
        "colab_type": "code",
        "id": "JiCr9hPluqe8",
        "colab": {}
      },
      "source": [
        "class CNNNet(nn.Module):\n",
        "  def __init__(self):\n",
        "    super(CNNNet, self).__init__()\n",
        "    self.features = nn.Sequential(\n",
        "      nn.Conv2d(1, 16, 3, padding=1),\n",
        "      nn.BatchNorm2d(16),\n",
        "      nn.ReLU(),\n",
        "      nn.MaxPool2d(2, 2),\n",
        "      nn.Conv2d(16, 16, kernel_size=3, padding=1),\n",
        "      nn.BatchNorm2d(16),\n",
        "      nn.ReLU(),\n",
        "      nn.MaxPool2d(kernel_size=2, stride=2),\n",
        "    )\n",
        "    self.classifier = nn.Sequential(\n",
        "      nn.Linear(16*24*24, 1000),\n",
        "      nn.Linear(1000, 100),\n",
        "      nn.Linear(100, 8),\n",
        "    )\n",
        "  def forward(self, x):\n",
        "    x = self.features(x)\n",
        "    x = torch.flatten(x, 1)\n",
        "    x = self.classifier(x)\n",
        "    return x\n",
        "\n",
        "net = CNNNet().cuda()"
      ],
      "execution_count": 0,
      "outputs": []
    },
    {
      "cell_type": "code",
      "metadata": {
        "id": "wR0Vq0TwWW3h",
        "colab_type": "code",
        "colab": {}
      },
      "source": [
        "def standard(img):\n",
        "  return (img - np.mean(img)) / np.std(img)\n",
        "\n",
        "class EarDataset(Dataset):\n",
        "\n",
        "  def __init__(self, pkl_file, root_dir, transform=None):\n",
        "    self.dataset = pd.read_pickle(pkl_file)\n",
        "    self.root_dir = root_dir\n",
        "    self.transform = transform\n",
        "      \n",
        "  def __len__(self):\n",
        "    return len(self.dataset)\n",
        "\n",
        "\n",
        "  def __getitem__(self, idx):\n",
        "    if torch.is_tensor(idx):\n",
        "      idx = idx.tolist()\n",
        "    \n",
        "    img_name = os.path.join(self.root_dir, self.dataset.iloc[idx, 0])\n",
        "    image = Image.open(img_name)\n",
        "    image = image.convert('L')\n",
        "    label = self.dataset.iloc[idx,1].astype(np.float32)\n",
        "    sample = {'image': image, 'label': label}\n",
        "\n",
        "\n",
        "    if self.transform:\n",
        "      sample = self.transform(sample)\n",
        "    return sample\n",
        "\n",
        "\n",
        "class DatasetFromSubset(Dataset):\n",
        "    def __init__(self, subset, transform=None):\n",
        "        self.subset = subset\n",
        "        self.transform = transform\n",
        "\n",
        "    def __getitem__(self, index):\n",
        "        img, label = self.subset[index]\n",
        "        if self.transform:\n",
        "            img, label = self.transform((img, label))\n",
        "        return img, label\n",
        "\n",
        "    def __len__(self):\n",
        "        return len(self.subset)"
      ],
      "execution_count": 0,
      "outputs": []
    },
    {
      "cell_type": "code",
      "metadata": {
        "id": "1RtH4dyTVkpD",
        "colab_type": "code",
        "colab": {}
      },
      "source": [
        "transform = transforms.Compose([Padding(),\n",
        "                                Resize(),\n",
        "                                AutoCanny(),\n",
        "                                ToTensor(),\n",
        "                                Normalize([0],[255]),\n",
        "                                ])\n",
        "\n",
        "pkl_file = 'dataset109.pkl'\n",
        "\n",
        "root_dir_canny = 'dataset'\n",
        "root_dir_original = 'dataset_original/dataset'\n",
        "\n",
        "init_dataset = EarDataset(pkl_file=pkl_file, root_dir=root_dir_original, transform=transform)\n",
        "\n",
        "lengths = [87, 22]\n",
        "\n",
        "train_subset, test_subset = random_split(init_dataset, lengths)\n",
        "\n",
        "train_dataset = DatasetFromSubset(train_subset, transform=None)\n",
        "test_dataset = DatasetFromSubset(test_subset, transform=None)\n",
        "\n",
        "train_dataloader = DataLoader(train_dataset, batch_size=2, shuffle=True)\n",
        "test_dataloader = DataLoader(test_dataset, batch_size=2)"
      ],
      "execution_count": 0,
      "outputs": []
    },
    {
      "cell_type": "code",
      "metadata": {
        "id": "VtaXV7Q8wAAN",
        "colab_type": "code",
        "outputId": "cca70585-6877-4914-d030-166cd8b526e3",
        "colab": {
          "base_uri": "https://localhost:8080/",
          "height": 447
        }
      },
      "source": [
        "def show_batch(batch):\n",
        "  images_batch, label = batch\n",
        "\n",
        "  grid = utils.make_grid(images_batch)\n",
        "  for img in images_batch:\n",
        "    print(f'Min pixel value: {torch.min(img)},\\nMax pixel value: {torch.max(img)},\\nType {img.type()},\\nShape {img.shape}')\n",
        "  plt.figure(figsize=(8,8))\n",
        "  plt.imshow(grid.numpy().transpose(1,2,0))\n",
        "\n",
        "batch = next(iter(train_dataloader))\n",
        "show_batch(batch)"
      ],
      "execution_count": 0,
      "outputs": [
        {
          "output_type": "stream",
          "text": [
            "Min pixel value: 0.0,\n",
            "Max pixel value: 1.0,\n",
            "Type torch.FloatTensor,\n",
            "Shape torch.Size([1, 96, 96])\n",
            "Min pixel value: 0.0,\n",
            "Max pixel value: 1.0,\n",
            "Type torch.FloatTensor,\n",
            "Shape torch.Size([1, 96, 96])\n"
          ],
          "name": "stdout"
        },
        {
          "output_type": "display_data",
          "data": {
            "image/png": "[encoded data removed]",
            "text/plain": [
              "<Figure size 576x576 with 1 Axes>"
            ]
          },
          "metadata": {
            "tags": []
          }
        }
      ]
    },
    {
      "cell_type": "code",
      "metadata": {
        "id": "VY610v4YrB3M",
        "colab_type": "code",
        "outputId": "d777cead-a6e4-487a-8e1b-a355c6369435",
        "colab": {
          "base_uri": "https://localhost:8080/",
          "height": 447
        }
      },
      "source": [
        "batch = next(iter(test_dataloader))\n",
        "show_batch(batch)"
      ],
      "execution_count": 0,
      "outputs": [
        {
          "output_type": "stream",
          "text": [
            "Min pixel value: 0.0,\n",
            "Max pixel value: 1.0,\n",
            "Type torch.FloatTensor,\n",
            "Shape torch.Size([1, 96, 96])\n",
            "Min pixel value: 0.0,\n",
            "Max pixel value: 1.0,\n",
            "Type torch.FloatTensor,\n",
            "Shape torch.Size([1, 96, 96])\n"
          ],
          "name": "stdout"
        },
        {
          "output_type": "display_data",
          "data": {
            "image/png": "[encoded data removed]",
            "text/plain": [
              "<Figure size 576x576 with 1 Axes>"
            ]
          },
          "metadata": {
            "tags": []
          }
        }
      ]
    },
    {
      "cell_type": "code",
      "metadata": {
        "id": "KHEMwulgbSBE",
        "colab_type": "code",
        "colab": {}
      },
      "source": [
        "def weight_reset(m):\n",
        "    if isinstance(m, nn.Conv2d) or isinstance(m, nn.Linear):\n",
        "        m.reset_parameters()\n",
        "\n",
        "\n",
        "def train(model, optimizer, loss_fn, train_loader, val_loader, epochs=20, device=\"cpu\"):\n",
        "  model.apply(weight_reset)\n",
        "  for epoch in range(epochs):\n",
        "    training_loss = 0.0\n",
        "    valid_loss = 0.0\n",
        "    model.train()\n",
        "    for batch in train_loader:\n",
        "      optimizer.zero_grad()\n",
        "      inputs, target = batch\n",
        "      inputs = inputs.to(device)\n",
        "      target = target.to(device)\n",
        "      output = model(inputs)\n",
        "      loss = loss_fn(output, target)\n",
        "      loss.backward()\n",
        "      optimizer.step()\n",
        "      training_loss += loss.item()\n",
        "      train_error = torch.dist(target, output)\n",
        "    training_loss /= len(train_loader)\n",
        "\n",
        "    model.eval()\n",
        "    num_correct = 0\n",
        "    num_examples = 0\n",
        "    for batch in val_loader:\n",
        "      inputs, targets = batch\n",
        "      inputs = inputs.to(device)\n",
        "      output = model(inputs)\n",
        "      targets = targets.to(device)\n",
        "      loss = loss_fn(output,targets)\n",
        "      valid_loss += loss.item()\n",
        "      val_error = torch.dist(targets, output)\n",
        "    valid_loss /= len(val_loader)\n",
        "\n",
        "    print(f'Epoch: {epoch}, Training Loss: {training_loss}, Validation Loss: {valid_loss}, Train Error = {train_error}, Validation Error = {val_error}')\n"
      ],
      "execution_count": 0,
      "outputs": []
    },
    {
      "cell_type": "code",
      "metadata": {
        "id": "x1ARIasobaWh",
        "colab_type": "code",
        "outputId": "133e335a-e13b-4ac7-a9c5-c105d827d14c",
        "colab": {
          "base_uri": "https://localhost:8080/",
          "height": 1000
        }
      },
      "source": [
        "import torch.optim as optim\n",
        "criterion = nn.MSELoss()\n",
        "optimizer = optim.Adam(net.parameters(), lr=0.00005)\n",
        "\n",
        "train(model=net, optimizer=optimizer, loss_fn=criterion,\n",
        "      train_loader=train_dataloader, val_loader=test_dataloader,\n",
        "      epochs=50, device=\"cuda\")\n"
      ],
      "execution_count": 0,
      "outputs": [
        {
          "output_type": "stream",
          "text": [
            "Epoch: 0, Training Loss: 0.8305598436431452, Validation Loss: 0.4518359032544223, Train Error = 1.5245875120162964, Validation Error = 3.5352344512939453\n",
            "Epoch: 1, Training Loss: 0.2159890246323564, Validation Loss: 0.18529139120470395, Train Error = 1.4242100715637207, Validation Error = 2.418330430984497\n",
            "Epoch: 2, Training Loss: 0.1463178095661781, Validation Loss: 0.1507841551845724, Train Error = 0.6185665130615234, Validation Error = 2.429399251937866\n",
            "Epoch: 3, Training Loss: 0.09773813890801235, Validation Loss: 0.1240162348205393, Train Error = 0.9620844125747681, Validation Error = 1.94253671169281\n",
            "Epoch: 4, Training Loss: 0.07187313683839007, Validation Loss: 0.1581606458533894, Train Error = 0.6561749577522278, Validation Error = 1.805037498474121\n",
            "Epoch: 5, Training Loss: 0.06662501987408508, Validation Loss: 0.16358727758580988, Train Error = 0.7979961037635803, Validation Error = 1.8227052688598633\n",
            "Epoch: 6, Training Loss: 0.06805482165972618, Validation Loss: 0.15672275694933804, Train Error = 0.6949834823608398, Validation Error = 2.1181418895721436\n",
            "Epoch: 7, Training Loss: 0.07054704313420436, Validation Loss: 0.14310021833939987, Train Error = 0.46160998940467834, Validation Error = 1.701658844947815\n",
            "Epoch: 8, Training Loss: 0.06691349293528633, Validation Loss: 0.1266863149675456, Train Error = 0.339590460062027, Validation Error = 1.9275753498077393\n",
            "Epoch: 9, Training Loss: 0.06247117290992967, Validation Loss: 0.18145963007753546, Train Error = 0.21092736721038818, Validation Error = 2.1597371101379395\n",
            "Epoch: 10, Training Loss: 0.08498500651595267, Validation Loss: 0.14445341649380597, Train Error = 0.8093013763427734, Validation Error = 1.8945695161819458\n",
            "Epoch: 11, Training Loss: 0.07144207376140085, Validation Loss: 0.17312851683659988, Train Error = 0.9357424378395081, Validation Error = 1.5409451723098755\n",
            "Epoch: 12, Training Loss: 0.053004942665045914, Validation Loss: 0.13919492878697134, Train Error = 0.4953286349773407, Validation Error = 1.6958682537078857\n",
            "Epoch: 13, Training Loss: 0.0429051725236191, Validation Loss: 0.1284377690065991, Train Error = 0.48894959688186646, Validation Error = 1.8108654022216797\n",
            "Epoch: 14, Training Loss: 0.026868192891759627, Validation Loss: 0.10881504755128514, Train Error = 0.3408782184123993, Validation Error = 1.4651423692703247\n",
            "Epoch: 15, Training Loss: 0.020486103275536814, Validation Loss: 0.10695368322459134, Train Error = 0.4934849441051483, Validation Error = 1.6276259422302246\n",
            "Epoch: 16, Training Loss: 0.02556395149705085, Validation Loss: 0.1353628378022801, Train Error = 0.3979714512825012, Validation Error = 1.703903079032898\n",
            "Epoch: 17, Training Loss: 0.024492782233706253, Validation Loss: 0.11346297304738652, Train Error = 0.5931188464164734, Validation Error = 1.939167857170105\n",
            "Epoch: 18, Training Loss: 0.020690435199701988, Validation Loss: 0.1062724424356764, Train Error = 0.4885813891887665, Validation Error = 1.7052210569381714\n",
            "Epoch: 19, Training Loss: 0.028581161559982735, Validation Loss: 0.10548370433124629, Train Error = 0.28179609775543213, Validation Error = 1.5129783153533936\n",
            "Epoch: 20, Training Loss: 0.03174175906249068, Validation Loss: 0.1079066585410725, Train Error = 0.5255541801452637, Validation Error = 1.773324966430664\n",
            "Epoch: 21, Training Loss: 0.02641848432408138, Validation Loss: 0.12409050085327843, Train Error = 0.5085245966911316, Validation Error = 1.916491985321045\n",
            "Epoch: 22, Training Loss: 0.02465407986363227, Validation Loss: 0.11943373998457735, Train Error = 0.34768953919410706, Validation Error = 1.5999666452407837\n",
            "Epoch: 23, Training Loss: 0.02194761268963868, Validation Loss: 0.14408984644846481, Train Error = 0.31946349143981934, Validation Error = 1.6156682968139648\n",
            "Epoch: 24, Training Loss: 0.023107826598623597, Validation Loss: 0.11193156716498462, Train Error = 0.48303869366645813, Validation Error = 1.3906207084655762\n",
            "Epoch: 25, Training Loss: 0.028082079137675464, Validation Loss: 0.11975471438332037, Train Error = 0.5061556100845337, Validation Error = 1.8437654972076416\n",
            "Epoch: 26, Training Loss: 0.02648376840674742, Validation Loss: 0.15395098044113678, Train Error = 0.290543794631958, Validation Error = 1.364967703819275\n",
            "Epoch: 27, Training Loss: 0.01827409185088155, Validation Loss: 0.12388017164035277, Train Error = 0.19145400822162628, Validation Error = 1.6124273538589478\n",
            "Epoch: 28, Training Loss: 0.01438706245442683, Validation Loss: 0.1093203906308521, Train Error = 0.42762255668640137, Validation Error = 1.6639790534973145\n",
            "Epoch: 29, Training Loss: 0.01474238116167147, Validation Loss: 0.125268949365074, Train Error = 0.20122379064559937, Validation Error = 1.707030177116394\n",
            "Epoch: 30, Training Loss: 0.02159291359765286, Validation Loss: 0.1138855174861171, Train Error = 0.21062178909778595, Validation Error = 1.9307663440704346\n",
            "Epoch: 31, Training Loss: 0.02904487709218467, Validation Loss: 0.11658402261408893, Train Error = 0.49530765414237976, Validation Error = 1.5025678873062134\n",
            "Epoch: 32, Training Loss: 0.02684916987676512, Validation Loss: 0.11208967525850642, Train Error = 0.4554624557495117, Validation Error = 1.8297985792160034\n",
            "Epoch: 33, Training Loss: 0.037498658522963524, Validation Loss: 0.10583782466975125, Train Error = 0.2501620650291443, Validation Error = 1.4810937643051147\n",
            "Epoch: 34, Training Loss: 0.026616861345246434, Validation Loss: 0.12298905883323062, Train Error = 0.3427652418613434, Validation Error = 1.4319748878479004\n",
            "Epoch: 35, Training Loss: 0.016681791727685115, Validation Loss: 0.11006408557295799, Train Error = 0.21810033917427063, Validation Error = 1.728995442390442\n",
            "Epoch: 36, Training Loss: 0.015941132039932363, Validation Loss: 0.10740013420581818, Train Error = 0.3390747606754303, Validation Error = 1.663598656654358\n",
            "Epoch: 37, Training Loss: 0.01165401014838029, Validation Loss: 0.1106741800904274, Train Error = 0.25180351734161377, Validation Error = 1.8132483959197998\n",
            "Epoch: 38, Training Loss: 0.013084812396713956, Validation Loss: 0.09437906775962222, Train Error = 0.11927618831396103, Validation Error = 1.6056745052337646\n",
            "Epoch: 39, Training Loss: 0.01348258900477297, Validation Loss: 0.10175043852491812, Train Error = 0.3395457863807678, Validation Error = 1.659848928451538\n",
            "Epoch: 40, Training Loss: 0.014621243198317561, Validation Loss: 0.10920597477392717, Train Error = 0.36197271943092346, Validation Error = 1.8076759576797485\n",
            "Epoch: 41, Training Loss: 0.01773603974883868, Validation Loss: 0.08960891311818903, Train Error = 0.4027760326862335, Validation Error = 1.689508318901062\n",
            "Epoch: 42, Training Loss: 0.017674316017126494, Validation Loss: 0.09424315562302416, Train Error = 0.48419567942619324, Validation Error = 1.6787999868392944\n",
            "Epoch: 43, Training Loss: 0.013044037443416362, Validation Loss: 0.09961189295757901, Train Error = 0.2264144867658615, Validation Error = 1.7172026634216309\n",
            "Epoch: 44, Training Loss: 0.012093105528037995, Validation Loss: 0.10555004193024202, Train Error = 0.3403659462928772, Validation Error = 1.6904218196868896\n",
            "Epoch: 45, Training Loss: 0.010604227371831339, Validation Loss: 0.10289363292130557, Train Error = 0.27115359902381897, Validation Error = 1.5717509984970093\n",
            "Epoch: 46, Training Loss: 0.008691914072683589, Validation Loss: 0.09733194654638117, Train Error = 0.35583993792533875, Validation Error = 1.5908002853393555\n",
            "Epoch: 47, Training Loss: 0.015144785601561043, Validation Loss: 0.11120942539789459, Train Error = 0.6192410588264465, Validation Error = 1.6196770668029785\n",
            "Epoch: 48, Training Loss: 0.01909345581026917, Validation Loss: 0.11367848109115254, Train Error = 0.418957382440567, Validation Error = 1.8146170377731323\n",
            "Epoch: 49, Training Loss: 0.02156266129300506, Validation Loss: 0.10680183429609645, Train Error = 0.3971898853778839, Validation Error = 1.8148671388626099\n"
          ],
          "name": "stdout"
        }
      ]
    },
    {
      "cell_type": "markdown",
      "metadata": {
        "id": "TSHgnF6lqbU4",
        "colab_type": "text"
      },
      "source": [
        "Epoch: 99, Training Loss: 0.00010694790489651496, Validation Loss: 0.0673814918845892, pnorm = 1.5491362810134888\n",
        "\n",
        "Epoch: 99, Training Loss: 0.00013848422713635955, Validation Loss: 0.09261073172092438, pnorm = 1.6659570932388306"
      ]
    },
    {
      "cell_type": "code",
      "metadata": {
        "id": "mzvxDAtB3OIM",
        "colab_type": "code",
        "outputId": "36386f80-75dd-49b9-a931-fda1cd838147",
        "colab": {
          "base_uri": "https://localhost:8080/",
          "height": 145
        }
      },
      "source": [
        "path = 'testset/0051_left.jpg'\n",
        "target = torch.tensor([1.7321, 0.82316, 1.7177, 1.3736, 5.94, 2.8194, 0.57672, 1.0697]).to('cuda')\n",
        "image = Image.open(path)\n",
        "sample_pred = {'image': image, 'label': np.random.randn(8)}\n",
        "transformed_sample = transform(sample_pred)\n",
        "print_img = transformed_sample[0]\n",
        "img = transformed_sample[0].unsqueeze(0).to('cuda')\n",
        "print(torch.max(img))\n",
        "prediction = net(img)\n",
        "error = torch.dist(target, prediction)\n",
        "print(f'prediction: {prediction}.\\nGround truth: {target}.')\n",
        "print(error)"
      ],
      "execution_count": 0,
      "outputs": [
        {
          "output_type": "stream",
          "text": [
            "tensor(1., device='cuda:0')\n",
            "prediction: tensor([[1.9674, 0.6240, 1.6416, 1.6418, 6.3555, 3.0549, 0.6028, 1.1557]],\n",
            "       device='cuda:0', grad_fn=<AddmmBackward>).\n",
            "Ground truth: tensor([1.7321, 0.8232, 1.7177, 1.3736, 5.9400, 2.8194, 0.5767, 1.0697],\n",
            "       device='cuda:0').\n",
            "tensor(0.6394, device='cuda:0', grad_fn=<DistBackward>)\n"
          ],
          "name": "stdout"
        }
      ]
    },
    {
      "cell_type": "code",
      "metadata": {
        "id": "jbWRzhUXAgN0",
        "colab_type": "code",
        "outputId": "4baa3c0d-9b10-4d7b-e730-816ca3034397",
        "colab": {
          "base_uri": "https://localhost:8080/",
          "height": 60
        }
      },
      "source": [
        "erro = abs(target-prediction)\n",
        "erro"
      ],
      "execution_count": 0,
      "outputs": [
        {
          "output_type": "execute_result",
          "data": {
            "text/plain": [
              "tensor([[0.2353, 0.1991, 0.0761, 0.2682, 0.4155, 0.2355, 0.0261, 0.0860]],\n",
              "       device='cuda:0', grad_fn=<AbsBackward>)"
            ]
          },
          "metadata": {
            "tags": []
          },
          "execution_count": 11
        }
      ]
    },
    {
      "cell_type": "code",
      "metadata": {
        "id": "CP3_NNhrDoeE",
        "colab_type": "code",
        "outputId": "3ea82243-f8eb-434a-caad-32aaf800578c",
        "colab": {
          "base_uri": "https://localhost:8080/",
          "height": 38
        }
      },
      "source": [
        "erro.sum()"
      ],
      "execution_count": 0,
      "outputs": [
        {
          "output_type": "execute_result",
          "data": {
            "text/plain": [
              "tensor(1.5418, device='cuda:0', grad_fn=<SumBackward0>)"
            ]
          },
          "metadata": {
            "tags": []
          },
          "execution_count": 12
        }
      ]
    },
    {
      "cell_type": "markdown",
      "metadata": {
        "id": "0gSIu55FWR-k",
        "colab_type": "text"
      },
      "source": [
        "\n",
        "Previsão: 1.8504, 0.4400, 1.5174, 1.2913, 6.1952, 2.9311, 0.4214, 1.0045\n",
        "\n",
        "Valor real: 1.7321\t0.82316\t1.7177\t1.3736\t5.94\t2.8194\t0.57672\t1.0697"
      ]
    },
    {
      "cell_type": "markdown",
      "metadata": {
        "id": "TkdZG8CbFY1V",
        "colab_type": "text"
      },
      "source": [
        "## Treinando vários modelos"
      ]
    },
    {
      "cell_type": "code",
      "metadata": {
        "id": "68K1POGsFbB8",
        "colab_type": "code",
        "outputId": "44b41e58-75fa-4da0-ac40-94cec73fe2cf",
        "colab": {
          "base_uri": "https://localhost:8080/",
          "height": 1000
        }
      },
      "source": [
        "batch1 = CNNNet().cuda()\n",
        "optimizer1 = optim.Adam(batch1.parameters(), lr=0.00005)\n",
        "\n",
        "train_dataloader1 = DataLoader(train_dataset, batch_size=1, shuffle=True)\n",
        "val_dataloader1 = DataLoader(test_dataset, batch_size=1)\n",
        "\n",
        "train(model=batch1, optimizer=optimizer1, loss_fn=criterion,\n",
        "      train_loader=train_dataloader1, val_loader=val_dataloader1,\n",
        "      epochs=50, device=\"cuda\")"
      ],
      "execution_count": 0,
      "outputs": [
        {
          "output_type": "stream",
          "text": [
            "Epoch: 0, Training Loss: 0.6891739608441618, Validation Loss: 0.13775202394886452, Train Error = 2.1008212566375732, Validation Error = 1.7809966802597046\n",
            "Epoch: 1, Training Loss: 0.23953014633607592, Validation Loss: 0.2134092077612877, Train Error = 0.8577961921691895, Validation Error = 2.1944005489349365\n",
            "Epoch: 2, Training Loss: 0.20111775997726397, Validation Loss: 0.22881564802744173, Train Error = 1.3542001247406006, Validation Error = 1.7677463293075562\n",
            "Epoch: 3, Training Loss: 0.18622639835223384, Validation Loss: 0.18447645770555193, Train Error = 0.945481538772583, Validation Error = 1.5788369178771973\n",
            "Epoch: 4, Training Loss: 0.17796512314214788, Validation Loss: 0.23934642208570783, Train Error = 1.769935965538025, Validation Error = 1.6830401420593262\n",
            "Epoch: 5, Training Loss: 0.11223906136235628, Validation Loss: 0.10603539789603515, Train Error = 0.751226007938385, Validation Error = 1.3819332122802734\n",
            "Epoch: 6, Training Loss: 0.06576253132273753, Validation Loss: 0.13651885735717686, Train Error = 0.6809656023979187, Validation Error = 1.5035563707351685\n",
            "Epoch: 7, Training Loss: 0.037796167303519, Validation Loss: 0.13466523215174675, Train Error = 1.085906982421875, Validation Error = 1.4067727327346802\n",
            "Epoch: 8, Training Loss: 0.028363786268465477, Validation Loss: 0.1468593424863436, Train Error = 0.21056534349918365, Validation Error = 1.4241178035736084\n",
            "Epoch: 9, Training Loss: 0.024152140218721724, Validation Loss: 0.11896087957376783, Train Error = 0.2239542305469513, Validation Error = 1.4232754707336426\n",
            "Epoch: 10, Training Loss: 0.02019802044846931, Validation Loss: 0.11217649568888274, Train Error = 0.2686392366886139, Validation Error = 1.208225131034851\n",
            "Epoch: 11, Training Loss: 0.02199541534907345, Validation Loss: 0.1439975066618486, Train Error = 0.2526579797267914, Validation Error = 0.9086880683898926\n",
            "Epoch: 12, Training Loss: 0.03168599781293915, Validation Loss: 0.12757490981708874, Train Error = 0.42826980352401733, Validation Error = 1.3258157968521118\n",
            "Epoch: 13, Training Loss: 0.02951424262197367, Validation Loss: 0.12517687322741206, Train Error = 0.8689804077148438, Validation Error = 1.3907175064086914\n",
            "Epoch: 14, Training Loss: 0.03303063515274004, Validation Loss: 0.1747865927490321, Train Error = 0.3383921980857849, Validation Error = 1.4274312257766724\n",
            "Epoch: 15, Training Loss: 0.061344539960739256, Validation Loss: 0.14245070491663434, Train Error = 0.7762061953544617, Validation Error = 1.308760166168213\n",
            "Epoch: 16, Training Loss: 0.05632428019361078, Validation Loss: 0.15160586295480077, Train Error = 0.7005658149719238, Validation Error = 1.5591681003570557\n",
            "Epoch: 17, Training Loss: 0.04262303272476313, Validation Loss: 0.1888444327156652, Train Error = 0.2624693512916565, Validation Error = 1.3663362264633179\n",
            "Epoch: 18, Training Loss: 0.04568986833395287, Validation Loss: 0.14613867398690095, Train Error = 0.6769872903823853, Validation Error = 1.5740890502929688\n",
            "Epoch: 19, Training Loss: 0.035624911687497436, Validation Loss: 0.19783608970994299, Train Error = 0.45606696605682373, Validation Error = 1.1214548349380493\n",
            "Epoch: 20, Training Loss: 0.031393445284245, Validation Loss: 0.17627455539662729, Train Error = 0.518961489200592, Validation Error = 1.1327143907546997\n",
            "Epoch: 21, Training Loss: 0.025844254220525425, Validation Loss: 0.15362445027990776, Train Error = 0.6586706638336182, Validation Error = 1.1510281562805176\n",
            "Epoch: 22, Training Loss: 0.02760130037746296, Validation Loss: 0.12701037695462053, Train Error = 0.37521666288375854, Validation Error = 1.1812434196472168\n",
            "Epoch: 23, Training Loss: 0.03081176840384416, Validation Loss: 0.12689115987582641, Train Error = 0.4312579035758972, Validation Error = 1.2881587743759155\n",
            "Epoch: 24, Training Loss: 0.02827394642631641, Validation Loss: 0.17000181126323613, Train Error = 0.29227837920188904, Validation Error = 1.3699944019317627\n",
            "Epoch: 25, Training Loss: 0.01993447929974003, Validation Loss: 0.14163390631702813, Train Error = 0.634162962436676, Validation Error = 1.1284496784210205\n",
            "Epoch: 26, Training Loss: 0.017813927341445254, Validation Loss: 0.1635215902193026, Train Error = 0.36041930317878723, Validation Error = 1.3350495100021362\n",
            "Epoch: 27, Training Loss: 0.018997816690083207, Validation Loss: 0.15992271578447384, Train Error = 0.22427284717559814, Validation Error = 1.2388697862625122\n",
            "Epoch: 28, Training Loss: 0.02046293232204585, Validation Loss: 0.1306343771178614, Train Error = 0.24992090463638306, Validation Error = 1.101973056793213\n",
            "Epoch: 29, Training Loss: 0.0256701887788615, Validation Loss: 0.13095786007629198, Train Error = 0.4745299220085144, Validation Error = 1.2000153064727783\n",
            "Epoch: 30, Training Loss: 0.028174460528354192, Validation Loss: 0.13122816722501407, Train Error = 0.4192832410335541, Validation Error = 1.3392951488494873\n",
            "Epoch: 31, Training Loss: 0.027615776521035994, Validation Loss: 0.12834976486523042, Train Error = 0.46531784534454346, Validation Error = 1.1755154132843018\n",
            "Epoch: 32, Training Loss: 0.02915584069045111, Validation Loss: 0.2029326395554976, Train Error = 0.6975255012512207, Validation Error = 1.1908533573150635\n",
            "Epoch: 33, Training Loss: 0.029554719375660538, Validation Loss: 0.21160752851177345, Train Error = 0.609803318977356, Validation Error = 0.8923810720443726\n",
            "Epoch: 34, Training Loss: 0.029356280460835958, Validation Loss: 0.13997384736483748, Train Error = 0.38254719972610474, Validation Error = 1.2526533603668213\n",
            "Epoch: 35, Training Loss: 0.019298677326008762, Validation Loss: 0.1618863632055846, Train Error = 0.3762286305427551, Validation Error = 1.0305213928222656\n",
            "Epoch: 36, Training Loss: 0.013692184525338569, Validation Loss: 0.14251903088932688, Train Error = 0.45100465416908264, Validation Error = 1.4530878067016602\n",
            "Epoch: 37, Training Loss: 0.010275609943823054, Validation Loss: 0.1608242014931007, Train Error = 0.377755343914032, Validation Error = 1.2345221042633057\n",
            "Epoch: 38, Training Loss: 0.011326461117821693, Validation Loss: 0.15346254713156007, Train Error = 0.21680401265621185, Validation Error = 1.0962762832641602\n",
            "Epoch: 39, Training Loss: 0.012799309205328083, Validation Loss: 0.15850715195252138, Train Error = 0.3654003143310547, Validation Error = 1.2512550354003906\n",
            "Epoch: 40, Training Loss: 0.01770171796737089, Validation Loss: 0.1727524973790754, Train Error = 0.31308966875076294, Validation Error = 1.0712616443634033\n",
            "Epoch: 41, Training Loss: 0.024055788464758587, Validation Loss: 0.12966715231199155, Train Error = 0.42530113458633423, Validation Error = 1.218994140625\n",
            "Epoch: 42, Training Loss: 0.023508235070875835, Validation Loss: 0.12521794624626637, Train Error = 0.21187306940555573, Validation Error = 1.0960941314697266\n",
            "Epoch: 43, Training Loss: 0.03383500592638578, Validation Loss: 0.1894028869203546, Train Error = 0.256500780582428, Validation Error = 0.9265071153640747\n",
            "Epoch: 44, Training Loss: 0.03269817943326144, Validation Loss: 0.11811306835575537, Train Error = 1.0984909534454346, Validation Error = 0.9819236397743225\n",
            "Epoch: 45, Training Loss: 0.03308799380340196, Validation Loss: 0.16346311975609173, Train Error = 0.267898291349411, Validation Error = 1.076937198638916\n",
            "Epoch: 46, Training Loss: 0.026332562631424302, Validation Loss: 0.2061012668365782, Train Error = 0.5729971528053284, Validation Error = 0.8390880227088928\n",
            "Epoch: 47, Training Loss: 0.016487254688232582, Validation Loss: 0.15446495455266399, Train Error = 0.31598687171936035, Validation Error = 1.1338129043579102\n",
            "Epoch: 48, Training Loss: 0.01278953768725068, Validation Loss: 0.13460209694775668, Train Error = 0.23360879719257355, Validation Error = 1.2712634801864624\n",
            "Epoch: 49, Training Loss: 0.014339207243388412, Validation Loss: 0.1655556664548137, Train Error = 0.33891817927360535, Validation Error = 0.9549185037612915\n"
          ],
          "name": "stdout"
        }
      ]
    },
    {
      "cell_type": "code",
      "metadata": {
        "id": "ct5icbb8F7EU",
        "colab_type": "code",
        "outputId": "7fb90658-0f67-45ef-9714-a5ee7eb3e81e",
        "colab": {
          "base_uri": "https://localhost:8080/",
          "height": 1000
        }
      },
      "source": [
        "batch2 = CNNNet().cuda()\n",
        "optimizer2 = optim.Adam(batch2.parameters(), lr=0.00005)\n",
        "\n",
        "train_dataloader2 = DataLoader(train_dataset, batch_size=2, shuffle=True)\n",
        "val_dataloader2 = DataLoader(test_dataset, batch_size=2)\n",
        "\n",
        "train(model=batch2, optimizer=optimizer2, loss_fn=criterion,\n",
        "      train_loader=train_dataloader2, val_loader=val_dataloader2,\n",
        "      epochs=50, device=\"cuda\")"
      ],
      "execution_count": 0,
      "outputs": [
        {
          "output_type": "stream",
          "text": [
            "Epoch: 0, Training Loss: 0.758239069106904, Validation Loss: 0.2997873716733672, Train Error = 0.9260807633399963, Validation Error = 2.9140288829803467\n",
            "Epoch: 1, Training Loss: 0.18142405186187138, Validation Loss: 0.1450157876719128, Train Error = 0.8320343494415283, Validation Error = 1.936650276184082\n",
            "Epoch: 2, Training Loss: 0.11563195144249634, Validation Loss: 0.13500900905240665, Train Error = 1.0367511510849, Validation Error = 1.492219090461731\n",
            "Epoch: 3, Training Loss: 0.08033002125607296, Validation Loss: 0.11486959254199808, Train Error = 0.6866238117218018, Validation Error = 1.6461910009384155\n",
            "Epoch: 4, Training Loss: 0.06569270853122527, Validation Loss: 0.12776903130791403, Train Error = 0.49558183550834656, Validation Error = 1.8239729404449463\n",
            "Epoch: 5, Training Loss: 0.06077047856524587, Validation Loss: 0.11160123551433737, Train Error = 0.47553735971450806, Validation Error = 1.3447182178497314\n",
            "Epoch: 6, Training Loss: 0.0689681578766216, Validation Loss: 0.11333388598127798, Train Error = 0.930050253868103, Validation Error = 1.387558937072754\n",
            "Epoch: 7, Training Loss: 0.05450482200831175, Validation Loss: 0.1284275698390874, Train Error = 0.37621524930000305, Validation Error = 1.7054500579833984\n",
            "Epoch: 8, Training Loss: 0.04318862895227291, Validation Loss: 0.10166183486580849, Train Error = 0.48404139280319214, Validation Error = 1.5593328475952148\n",
            "Epoch: 9, Training Loss: 0.03942945883186026, Validation Loss: 0.11403958296233957, Train Error = 0.39404433965682983, Validation Error = 1.899909257888794\n",
            "Epoch: 10, Training Loss: 0.0301445122406056, Validation Loss: 0.1162290634079413, Train Error = 0.550857663154602, Validation Error = 1.6153079271316528\n",
            "Epoch: 11, Training Loss: 0.03609319982669232, Validation Loss: 0.1081342480399392, Train Error = 0.3729041814804077, Validation Error = 1.7225065231323242\n",
            "Epoch: 12, Training Loss: 0.038909197562712834, Validation Loss: 0.12607792832634665, Train Error = 0.3250381052494049, Validation Error = 1.5533175468444824\n",
            "Epoch: 13, Training Loss: 0.03544728356328877, Validation Loss: 0.11004988747564229, Train Error = 0.35111501812934875, Validation Error = 1.7052208185195923\n",
            "Epoch: 14, Training Loss: 0.039347065252844586, Validation Loss: 0.10487815297462723, Train Error = 0.30761000514030457, Validation Error = 1.6756837368011475\n",
            "Epoch: 15, Training Loss: 0.03735210506287827, Validation Loss: 0.10943485525521365, Train Error = 0.7466164827346802, Validation Error = 1.7590861320495605\n",
            "Epoch: 16, Training Loss: 0.028568713581824504, Validation Loss: 0.11322441866452043, Train Error = 0.2774409353733063, Validation Error = 1.5953834056854248\n",
            "Epoch: 17, Training Loss: 0.02640885852319612, Validation Loss: 0.11785988441922447, Train Error = 0.43818777799606323, Validation Error = 1.613816738128662\n",
            "Epoch: 18, Training Loss: 0.02629940836182372, Validation Loss: 0.10179560089653189, Train Error = 0.6907963752746582, Validation Error = 1.5482488870620728\n",
            "Epoch: 19, Training Loss: 0.028484513199972836, Validation Loss: 0.09571820429780266, Train Error = 0.4783796966075897, Validation Error = 1.6802486181259155\n",
            "Epoch: 20, Training Loss: 0.02990225643258203, Validation Loss: 0.11831029335206206, Train Error = 0.7262394428253174, Validation Error = 1.8306915760040283\n",
            "Epoch: 21, Training Loss: 0.04365850341590968, Validation Loss: 0.12119335952130231, Train Error = 0.8289588689804077, Validation Error = 1.6846131086349487\n",
            "Epoch: 22, Training Loss: 0.05123635984703221, Validation Loss: 0.13021259213035757, Train Error = 0.6480391621589661, Validation Error = 1.9943032264709473\n",
            "Epoch: 23, Training Loss: 0.049888424278998915, Validation Loss: 0.10132534090768207, Train Error = 0.3755142092704773, Validation Error = 1.4609034061431885\n",
            "Epoch: 24, Training Loss: 0.029418196095238356, Validation Loss: 0.10397902808406136, Train Error = 0.8550683259963989, Validation Error = 1.7358589172363281\n",
            "Epoch: 25, Training Loss: 0.02383174399040978, Validation Loss: 0.11051921749656851, Train Error = 0.38212642073631287, Validation Error = 1.5414563417434692\n",
            "Epoch: 26, Training Loss: 0.01808518321592022, Validation Loss: 0.0995914214714007, Train Error = 0.3896421194076538, Validation Error = 1.655453085899353\n",
            "Epoch: 27, Training Loss: 0.014560309783767232, Validation Loss: 0.09743802147832784, Train Error = 0.4800124168395996, Validation Error = 1.683323621749878\n",
            "Epoch: 28, Training Loss: 0.013256038962440058, Validation Loss: 0.1012997566299005, Train Error = 0.29839766025543213, Validation Error = 1.7962188720703125\n",
            "Epoch: 29, Training Loss: 0.014523662383329462, Validation Loss: 0.10844042219898918, Train Error = 0.4229624271392822, Validation Error = 1.8768104314804077\n",
            "Epoch: 30, Training Loss: 0.01867058884818107, Validation Loss: 0.14710440960797397, Train Error = 0.43697476387023926, Validation Error = 1.393314242362976\n",
            "Epoch: 31, Training Loss: 0.019835454660510135, Validation Loss: 0.1005073453892361, Train Error = 0.5747647285461426, Validation Error = 1.9496170282363892\n",
            "Epoch: 32, Training Loss: 0.021930979067375036, Validation Loss: 0.11011748252944513, Train Error = 0.2610832750797272, Validation Error = 1.9585515260696411\n",
            "Epoch: 33, Training Loss: 0.018356166504831475, Validation Loss: 0.1053485477512533, Train Error = 0.36252525448799133, Validation Error = 1.8055860996246338\n",
            "Epoch: 34, Training Loss: 0.02521588264922188, Validation Loss: 0.13460085845806383, Train Error = 0.4260869324207306, Validation Error = 1.4906330108642578\n",
            "Epoch: 35, Training Loss: 0.02362707485868172, Validation Loss: 0.11800851571288976, Train Error = 0.5040810108184814, Validation Error = 1.4290519952774048\n",
            "Epoch: 36, Training Loss: 0.02281818191774867, Validation Loss: 0.0949963043359193, Train Error = 0.7006633877754211, Validation Error = 1.6272531747817993\n",
            "Epoch: 37, Training Loss: 0.018100071656094355, Validation Loss: 0.11461729454723271, Train Error = 0.3441643714904785, Validation Error = 1.4435648918151855\n",
            "Epoch: 38, Training Loss: 0.012573021940294315, Validation Loss: 0.0991521653803912, Train Error = 0.2901567816734314, Validation Error = 1.706849217414856\n",
            "Epoch: 39, Training Loss: 0.012472620778928765, Validation Loss: 0.09746966544877399, Train Error = 0.20328165590763092, Validation Error = 1.7731366157531738\n",
            "Epoch: 40, Training Loss: 0.011333824230612001, Validation Loss: 0.10443222624334422, Train Error = 0.4418071210384369, Validation Error = 1.7361445426940918\n",
            "Epoch: 41, Training Loss: 0.014992763341235166, Validation Loss: 0.11428350345654921, Train Error = 0.5536488890647888, Validation Error = 1.463753342628479\n",
            "Epoch: 42, Training Loss: 0.013722601902290162, Validation Loss: 0.09964983199130405, Train Error = 0.3996104896068573, Validation Error = 1.6153230667114258\n",
            "Epoch: 43, Training Loss: 0.011904670396523381, Validation Loss: 0.09664071012626994, Train Error = 0.25948449969291687, Validation Error = 1.5832481384277344\n",
            "Epoch: 44, Training Loss: 0.010503528962462124, Validation Loss: 0.10099810395728458, Train Error = 0.15736766159534454, Validation Error = 1.7333520650863647\n",
            "Epoch: 45, Training Loss: 0.01220113682475957, Validation Loss: 0.09037945792078972, Train Error = 0.6288962960243225, Validation Error = 1.679966926574707\n",
            "Epoch: 46, Training Loss: 0.01615554803918878, Validation Loss: 0.11718677661635658, Train Error = 0.224275603890419, Validation Error = 1.6169040203094482\n",
            "Epoch: 47, Training Loss: 0.015283942815255035, Validation Loss: 0.11134750633077188, Train Error = 0.40946123003959656, Validation Error = 2.0382943153381348\n",
            "Epoch: 48, Training Loss: 0.0211125555744564, Validation Loss: 0.10357983715154907, Train Error = 0.372877299785614, Validation Error = 1.783308982849121\n",
            "Epoch: 49, Training Loss: 0.01577116956997832, Validation Loss: 0.14216989312659611, Train Error = 0.22924204170703888, Validation Error = 1.5922183990478516\n"
          ],
          "name": "stdout"
        }
      ]
    },
    {
      "cell_type": "code",
      "metadata": {
        "id": "Jk2A91WOF7UQ",
        "colab_type": "code",
        "outputId": "dd7b4313-d204-4aff-e8a6-6bd4dc8b4dd3",
        "colab": {
          "base_uri": "https://localhost:8080/",
          "height": 1000
        }
      },
      "source": [
        "batch4 = CNNNet().cuda()\n",
        "optimizer4 = optim.Adam(batch4.parameters(), lr=0.00005)\n",
        "\n",
        "train_dataloader4 = DataLoader(train_dataset, batch_size=4, shuffle=True)\n",
        "val_dataloader4 = DataLoader(test_dataset, batch_size=4)\n",
        "\n",
        "train(model=batch4, optimizer=optimizer4, loss_fn=criterion,\n",
        "      train_loader=train_dataloader4, val_loader=val_dataloader4,\n",
        "      epochs=50, device=\"cuda\")"
      ],
      "execution_count": 0,
      "outputs": [
        {
          "output_type": "stream",
          "text": [
            "Epoch: 0, Training Loss: 1.5235030745918101, Validation Loss: 2.6786922613779702, Train Error = 2.89204740524292, Validation Error = 6.937562942504883\n",
            "Epoch: 1, Training Loss: 0.3067888238213279, Validation Loss: 0.4069059143463771, Train Error = 1.859363317489624, Validation Error = 3.511742353439331\n",
            "Epoch: 2, Training Loss: 0.13265188749540935, Validation Loss: 0.16453524927298227, Train Error = 1.2619614601135254, Validation Error = 2.411184549331665\n",
            "Epoch: 3, Training Loss: 0.08210759508338841, Validation Loss: 0.15459928289055824, Train Error = 1.8626868724822998, Validation Error = 2.3700156211853027\n",
            "Epoch: 4, Training Loss: 0.05142400117421692, Validation Loss: 0.1298563008507093, Train Error = 2.013731002807617, Validation Error = 2.0259602069854736\n",
            "Epoch: 5, Training Loss: 0.034070305272259495, Validation Loss: 0.12195377610623837, Train Error = 0.8901504278182983, Validation Error = 1.828406572341919\n",
            "Epoch: 6, Training Loss: 0.02962923909283497, Validation Loss: 0.1228536603351434, Train Error = 1.400498867034912, Validation Error = 1.8295022249221802\n",
            "Epoch: 7, Training Loss: 0.021174958907067776, Validation Loss: 0.12213026049236457, Train Error = 0.5668104290962219, Validation Error = 1.7806875705718994\n",
            "Epoch: 8, Training Loss: 0.017244539033113557, Validation Loss: 0.12547806774576506, Train Error = 0.5044485926628113, Validation Error = 1.7295855283737183\n",
            "Epoch: 9, Training Loss: 0.014121544176966629, Validation Loss: 0.11625400309761365, Train Error = 0.8754177689552307, Validation Error = 1.7866058349609375\n",
            "Epoch: 10, Training Loss: 0.011686329708688638, Validation Loss: 0.12334393213192622, Train Error = 0.4541172385215759, Validation Error = 1.709507703781128\n",
            "Epoch: 11, Training Loss: 0.014342150481587107, Validation Loss: 0.1329128990570704, Train Error = 0.4090096950531006, Validation Error = 1.752174973487854\n",
            "Epoch: 12, Training Loss: 0.010611554290252652, Validation Loss: 0.13261963551243147, Train Error = 0.4681953489780426, Validation Error = 1.7655184268951416\n",
            "Epoch: 13, Training Loss: 0.009202569320967252, Validation Loss: 0.1259897624452909, Train Error = 0.47339481115341187, Validation Error = 1.8040812015533447\n",
            "Epoch: 14, Training Loss: 0.012963937934149395, Validation Loss: 0.13499067723751068, Train Error = 0.6096277832984924, Validation Error = 1.8126336336135864\n",
            "Epoch: 15, Training Loss: 0.016176521439443935, Validation Loss: 0.12776659925778708, Train Error = 0.7540366053581238, Validation Error = 1.8336926698684692\n",
            "Epoch: 16, Training Loss: 0.018834066831252792, Validation Loss: 0.14533886685967445, Train Error = 0.4837440550327301, Validation Error = 1.9244422912597656\n",
            "Epoch: 17, Training Loss: 0.03726279117505659, Validation Loss: 0.14171982432405153, Train Error = 0.8951736092567444, Validation Error = 1.8098148107528687\n",
            "Epoch: 18, Training Loss: 0.05100303219461983, Validation Loss: 0.13401118045051894, Train Error = 0.8621552586555481, Validation Error = 1.7868127822875977\n",
            "Epoch: 19, Training Loss: 0.05804434295913035, Validation Loss: 0.19024541477362314, Train Error = 1.6993305683135986, Validation Error = 1.9594719409942627\n",
            "Epoch: 20, Training Loss: 0.07165598149665377, Validation Loss: 0.1593530091146628, Train Error = 1.3900446891784668, Validation Error = 1.9129893779754639\n",
            "Epoch: 21, Training Loss: 0.053225180472839966, Validation Loss: 0.16281908502181372, Train Error = 1.3970056772232056, Validation Error = 1.951743721961975\n",
            "Epoch: 22, Training Loss: 0.04162307938730175, Validation Loss: 0.13787293682495752, Train Error = 0.665475070476532, Validation Error = 1.8641115427017212\n",
            "Epoch: 23, Training Loss: 0.04035956590351733, Validation Loss: 0.12829161435365677, Train Error = 1.258338451385498, Validation Error = 1.8637315034866333\n",
            "Epoch: 24, Training Loss: 0.03280845712023703, Validation Loss: 0.17362602924307188, Train Error = 0.6893197298049927, Validation Error = 1.9502317905426025\n",
            "Epoch: 25, Training Loss: 0.03650059356269511, Validation Loss: 0.14445544903477034, Train Error = 1.2900502681732178, Validation Error = 1.827805995941162\n",
            "Epoch: 26, Training Loss: 0.049666774459183216, Validation Loss: 0.1809908871849378, Train Error = 1.4697256088256836, Validation Error = 1.8194220066070557\n",
            "Epoch: 27, Training Loss: 0.043109696273776615, Validation Loss: 0.130937443425258, Train Error = 0.677924394607544, Validation Error = 1.7471271753311157\n",
            "Epoch: 28, Training Loss: 0.03188561677763408, Validation Loss: 0.13584557796518007, Train Error = 0.745363712310791, Validation Error = 1.86977219581604\n",
            "Epoch: 29, Training Loss: 0.02120725738561966, Validation Loss: 0.13884353140989938, Train Error = 0.5230746865272522, Validation Error = 1.9058032035827637\n",
            "Epoch: 30, Training Loss: 0.02061566236344251, Validation Loss: 0.13795160626371702, Train Error = 0.37916842103004456, Validation Error = 1.9551355838775635\n",
            "Epoch: 31, Training Loss: 0.015956470531157473, Validation Loss: 0.13062847778201103, Train Error = 0.5974939465522766, Validation Error = 1.8103547096252441\n",
            "Epoch: 32, Training Loss: 0.01207492261363024, Validation Loss: 0.134433397402366, Train Error = 0.4658223092556, Validation Error = 1.7800112962722778\n",
            "Epoch: 33, Training Loss: 0.007890172133391554, Validation Loss: 0.13574229056636491, Train Error = 0.4947638213634491, Validation Error = 1.7847106456756592\n",
            "Epoch: 34, Training Loss: 0.008319501786238769, Validation Loss: 0.13833993673324585, Train Error = 0.5876365303993225, Validation Error = 1.8314441442489624\n",
            "Epoch: 35, Training Loss: 0.009556392652236602, Validation Loss: 0.1257191337645054, Train Error = 0.3156191110610962, Validation Error = 1.7062381505966187\n",
            "Epoch: 36, Training Loss: 0.0099348986457864, Validation Loss: 0.139962467054526, Train Error = 0.6825788617134094, Validation Error = 1.896446704864502\n",
            "Epoch: 37, Training Loss: 0.010086235579695891, Validation Loss: 0.12624962255358696, Train Error = 0.38465777039527893, Validation Error = 1.8878198862075806\n",
            "Epoch: 38, Training Loss: 0.013760030481287024, Validation Loss: 0.1365546869734923, Train Error = 0.6720854043960571, Validation Error = 1.8716858625411987\n",
            "Epoch: 39, Training Loss: 0.009761215949600393, Validation Loss: 0.13303066541751227, Train Error = 0.4517289102077484, Validation Error = 1.8519822359085083\n",
            "Epoch: 40, Training Loss: 0.007529387705620717, Validation Loss: 0.12588444476326308, Train Error = 0.43673568964004517, Validation Error = 1.8021643161773682\n",
            "Epoch: 41, Training Loss: 0.006674541223963553, Validation Loss: 0.14136107886830965, Train Error = 0.4208362102508545, Validation Error = 1.7895827293395996\n",
            "Epoch: 42, Training Loss: 0.008733331702056934, Validation Loss: 0.13258570060133934, Train Error = 0.4034051299095154, Validation Error = 1.7444040775299072\n",
            "Epoch: 43, Training Loss: 0.009084240247664804, Validation Loss: 0.11937643090883891, Train Error = 0.3332723081111908, Validation Error = 1.7506340742111206\n",
            "Epoch: 44, Training Loss: 0.015071471496908502, Validation Loss: 0.12244936948021252, Train Error = 0.6782704591751099, Validation Error = 1.7856038808822632\n",
            "Epoch: 45, Training Loss: 0.01621175390160219, Validation Loss: 0.13751097644368807, Train Error = 0.4861682057380676, Validation Error = 1.7741961479187012\n",
            "Epoch: 46, Training Loss: 0.014811638594520364, Validation Loss: 0.12666689728697142, Train Error = 0.6814310550689697, Validation Error = 1.8266452550888062\n",
            "Epoch: 47, Training Loss: 0.01366627389903773, Validation Loss: 0.12941934913396835, Train Error = 0.5174064040184021, Validation Error = 1.860766053199768\n",
            "Epoch: 48, Training Loss: 0.01889326660470529, Validation Loss: 0.14243477458755174, Train Error = 0.7525377869606018, Validation Error = 1.725258469581604\n",
            "Epoch: 49, Training Loss: 0.014944858849048615, Validation Loss: 0.14612380415201187, Train Error = 0.5808709263801575, Validation Error = 1.8947274684906006\n"
          ],
          "name": "stdout"
        }
      ]
    },
    {
      "cell_type": "code",
      "metadata": {
        "id": "CB8WzNFwF7qQ",
        "colab_type": "code",
        "outputId": "5a92d8fa-73f8-4151-8699-82d09377b078",
        "colab": {
          "base_uri": "https://localhost:8080/",
          "height": 1000
        }
      },
      "source": [
        "batch8 = CNNNet().cuda()\n",
        "optimizer8 = optim.Adam(batch8.parameters(), lr=0.00005)\n",
        "\n",
        "train_dataloader8 = DataLoader(train_dataset, batch_size=8, shuffle=True)\n",
        "val_dataloader8 = DataLoader(test_dataset, batch_size=8)\n",
        "\n",
        "train(model=batch8, optimizer=optimizer8, loss_fn=criterion,\n",
        "      train_loader=train_dataloader8, val_loader=val_dataloader8,\n",
        "      epochs=50, device=\"cuda\")"
      ],
      "execution_count": 0,
      "outputs": [
        {
          "output_type": "stream",
          "text": [
            "Epoch: 0, Training Loss: 2.180775227871808, Validation Loss: 4.4478583335876465, Train Error = 5.606378078460693, Validation Error = 14.900766372680664\n",
            "Epoch: 1, Training Loss: 0.4938816252079877, Validation Loss: 2.7232874234517417, Train Error = 3.55458664894104, Validation Error = 11.797013282775879\n",
            "Epoch: 2, Training Loss: 0.21178825538266788, Validation Loss: 0.743914783000946, Train Error = 3.8717844486236572, Validation Error = 6.5769124031066895\n",
            "Epoch: 3, Training Loss: 0.1343166008591652, Validation Loss: 0.3340517282485962, Train Error = 2.647386312484741, Validation Error = 4.673920154571533\n",
            "Epoch: 4, Training Loss: 0.0922793641009114, Validation Loss: 0.14507645865281424, Train Error = 1.9493799209594727, Validation Error = 3.297072649002075\n",
            "Epoch: 5, Training Loss: 0.07634976201436737, Validation Loss: 0.11426059156656265, Train Error = 2.8324904441833496, Validation Error = 2.8206522464752197\n",
            "Epoch: 6, Training Loss: 0.0603747254406864, Validation Loss: 0.11938584347565968, Train Error = 1.1244722604751587, Validation Error = 2.8640384674072266\n",
            "Epoch: 7, Training Loss: 0.04641206274655732, Validation Loss: 0.1167865867416064, Train Error = 1.067263126373291, Validation Error = 2.8328192234039307\n",
            "Epoch: 8, Training Loss: 0.03588145378638397, Validation Loss: 0.11578643570343654, Train Error = 2.011554479598999, Validation Error = 2.72725248336792\n",
            "Epoch: 9, Training Loss: 0.031106093983081253, Validation Loss: 0.11594977974891663, Train Error = 1.8441004753112793, Validation Error = 2.794611930847168\n",
            "Epoch: 10, Training Loss: 0.026516603390601547, Validation Loss: 0.1190209835767746, Train Error = 0.950089156627655, Validation Error = 2.8103883266448975\n",
            "Epoch: 11, Training Loss: 0.018444620665501465, Validation Loss: 0.11626268674929936, Train Error = 0.567251980304718, Validation Error = 2.673994541168213\n",
            "Epoch: 12, Training Loss: 0.017346945167942482, Validation Loss: 0.11539304256439209, Train Error = 0.6930345296859741, Validation Error = 2.6282880306243896\n",
            "Epoch: 13, Training Loss: 0.011893404234962707, Validation Loss: 0.11256495863199234, Train Error = 0.6099203824996948, Validation Error = 2.631281614303589\n",
            "Epoch: 14, Training Loss: 0.00931668578943407, Validation Loss: 0.11258894701798756, Train Error = 0.6938384771347046, Validation Error = 2.6433141231536865\n",
            "Epoch: 15, Training Loss: 0.007332159968262369, Validation Loss: 0.1132836788892746, Train Error = 0.48406562209129333, Validation Error = 2.633565664291382\n",
            "Epoch: 16, Training Loss: 0.007480398561297493, Validation Loss: 0.12362720568974812, Train Error = 0.4674011170864105, Validation Error = 2.6524670124053955\n",
            "Epoch: 17, Training Loss: 0.008392090189524672, Validation Loss: 0.11274976531664531, Train Error = 0.3335091769695282, Validation Error = 2.5734152793884277\n",
            "Epoch: 18, Training Loss: 0.005547173628160222, Validation Loss: 0.1104764590660731, Train Error = 1.0879583358764648, Validation Error = 2.5544276237487793\n",
            "Epoch: 19, Training Loss: 0.005226608566855165, Validation Loss: 0.1114250123500824, Train Error = 0.3929121196269989, Validation Error = 2.565075635910034\n",
            "Epoch: 20, Training Loss: 0.004305137342519381, Validation Loss: 0.1132631649573644, Train Error = 0.4195457696914673, Validation Error = 2.575700283050537\n",
            "Epoch: 21, Training Loss: 0.003986692839217457, Validation Loss: 0.1161295548081398, Train Error = 0.3935664892196655, Validation Error = 2.6209557056427\n",
            "Epoch: 22, Training Loss: 0.004082610428502614, Validation Loss: 0.11003040025631587, Train Error = 0.4518764615058899, Validation Error = 2.56019926071167\n",
            "Epoch: 23, Training Loss: 0.004579171093858101, Validation Loss: 0.11250873655080795, Train Error = 0.3220076560974121, Validation Error = 2.608860731124878\n",
            "Epoch: 24, Training Loss: 0.004457697399299253, Validation Loss: 0.11667383213837941, Train Error = 0.5527251958847046, Validation Error = 2.5468194484710693\n",
            "Epoch: 25, Training Loss: 0.003278738861395554, Validation Loss: 0.11601472894350688, Train Error = 0.48786020278930664, Validation Error = 2.546464204788208\n",
            "Epoch: 26, Training Loss: 0.002750078237361529, Validation Loss: 0.11460080246130626, Train Error = 0.43110761046409607, Validation Error = 2.5404717922210693\n",
            "Epoch: 27, Training Loss: 0.0026369255713441157, Validation Loss: 0.11500307669242223, Train Error = 0.35512033104896545, Validation Error = 2.572171688079834\n",
            "Epoch: 28, Training Loss: 0.00297785793769766, Validation Loss: 0.11522142589092255, Train Error = 0.45457300543785095, Validation Error = 2.548602819442749\n",
            "Epoch: 29, Training Loss: 0.0027354766445403748, Validation Loss: 0.11596578856309255, Train Error = 0.5232367515563965, Validation Error = 2.5354950428009033\n",
            "Epoch: 30, Training Loss: 0.0026209669674492693, Validation Loss: 0.11582395682732265, Train Error = 0.3262631297111511, Validation Error = 2.5827736854553223\n",
            "Epoch: 31, Training Loss: 0.0024907283421436496, Validation Loss: 0.11637767155965169, Train Error = 0.3813609480857849, Validation Error = 2.5677900314331055\n",
            "Epoch: 32, Training Loss: 0.0024315390778197484, Validation Loss: 0.11330614487330119, Train Error = 0.36313727498054504, Validation Error = 2.4980030059814453\n",
            "Epoch: 33, Training Loss: 0.002976427532055161, Validation Loss: 0.1161564514040947, Train Error = 0.4989630877971649, Validation Error = 2.5364809036254883\n",
            "Epoch: 34, Training Loss: 0.004478992830792611, Validation Loss: 0.12181632965803146, Train Error = 0.5744490623474121, Validation Error = 2.6297109127044678\n",
            "Epoch: 35, Training Loss: 0.005023982100696726, Validation Loss: 0.12415518114964168, Train Error = 0.45250970125198364, Validation Error = 2.6379475593566895\n",
            "Epoch: 36, Training Loss: 0.005620572144504298, Validation Loss: 0.11095247666041057, Train Error = 0.69065922498703, Validation Error = 2.4539997577667236\n",
            "Epoch: 37, Training Loss: 0.009218337225981733, Validation Loss: 0.11123515665531158, Train Error = 0.9586227536201477, Validation Error = 2.5560741424560547\n",
            "Epoch: 38, Training Loss: 0.0073616279458457775, Validation Loss: 0.11690469831228256, Train Error = 0.8347169160842896, Validation Error = 2.520934581756592\n",
            "Epoch: 39, Training Loss: 0.010544180362062021, Validation Loss: 0.11650172372659047, Train Error = 0.5020464062690735, Validation Error = 2.5416266918182373\n",
            "Epoch: 40, Training Loss: 0.013900647701864893, Validation Loss: 0.1263105273246765, Train Error = 1.0489659309387207, Validation Error = 2.6510157585144043\n",
            "Epoch: 41, Training Loss: 0.023239984600381416, Validation Loss: 0.13286615908145905, Train Error = 1.105775237083435, Validation Error = 2.8085169792175293\n",
            "Epoch: 42, Training Loss: 0.030320438302376053, Validation Loss: 0.12570987890164056, Train Error = 1.3015849590301514, Validation Error = 2.7575619220733643\n",
            "Epoch: 43, Training Loss: 0.029262383722446182, Validation Loss: 0.11982704699039459, Train Error = 1.3839876651763916, Validation Error = 2.5988669395446777\n",
            "Epoch: 44, Training Loss: 0.029033854180438953, Validation Loss: 0.13439586261908212, Train Error = 1.3704663515090942, Validation Error = 2.6075196266174316\n",
            "Epoch: 45, Training Loss: 0.02240569567815824, Validation Loss: 0.11878898491462071, Train Error = 0.8942646384239197, Validation Error = 2.6261532306671143\n",
            "Epoch: 46, Training Loss: 0.018097651106390087, Validation Loss: 0.13040692110856375, Train Error = 1.0340944528579712, Validation Error = 2.8286266326904297\n",
            "Epoch: 47, Training Loss: 0.02156027296388691, Validation Loss: 0.11741100748380025, Train Error = 1.9303689002990723, Validation Error = 2.5455422401428223\n",
            "Epoch: 48, Training Loss: 0.018568942831321197, Validation Loss: 0.12422657012939453, Train Error = 1.0501426458358765, Validation Error = 2.579054594039917\n",
            "Epoch: 49, Training Loss: 0.018827960995787926, Validation Loss: 0.12314031273126602, Train Error = 1.3871030807495117, Validation Error = 2.6686744689941406\n"
          ],
          "name": "stdout"
        }
      ]
    },
    {
      "cell_type": "code",
      "metadata": {
        "id": "guElSB1LF7zw",
        "colab_type": "code",
        "outputId": "e4bd9875-9d44-4298-89ab-0fc6964ad7d1",
        "colab": {
          "base_uri": "https://localhost:8080/",
          "height": 1000
        }
      },
      "source": [
        "batch16 = CNNNet().cuda()\n",
        "optimizer16 = optim.Adam(batch16.parameters(), lr=0.00005)\n",
        "\n",
        "train_dataloader16 = DataLoader(train_dataset, batch_size=16, shuffle=True)\n",
        "val_dataloader16 = DataLoader(test_dataset, batch_size=16)\n",
        "\n",
        "train(model=batch16, optimizer=optimizer16, loss_fn=criterion,\n",
        "      train_loader=train_dataloader16, val_loader=val_dataloader16,\n",
        "      epochs=50, device=\"cuda\")"
      ],
      "execution_count": 0,
      "outputs": [
        {
          "output_type": "stream",
          "text": [
            "Epoch: 0, Training Loss: 2.696235775947571, Validation Loss: 5.335570573806763, Train Error = 9.230866432189941, Validation Error = 16.26006507873535\n",
            "Epoch: 1, Training Loss: 1.3671229084332783, Validation Loss: 4.565985441207886, Train Error = 6.298537254333496, Validation Error = 15.01222038269043\n",
            "Epoch: 2, Training Loss: 0.4879056364297867, Validation Loss: 3.7050517797470093, Train Error = 5.984241962432861, Validation Error = 13.529531478881836\n",
            "Epoch: 3, Training Loss: 0.3352072363098462, Validation Loss: 1.5139415860176086, Train Error = 2.0758566856384277, Validation Error = 8.738255500793457\n",
            "Epoch: 4, Training Loss: 0.25232110917568207, Validation Loss: 0.6073321998119354, Train Error = 3.7464816570281982, Validation Error = 5.654433727264404\n",
            "Epoch: 5, Training Loss: 0.15898753826816878, Validation Loss: 0.640388160943985, Train Error = 2.895401954650879, Validation Error = 5.796184539794922\n",
            "Epoch: 6, Training Loss: 0.1309764670828978, Validation Loss: 0.34661802649497986, Train Error = 2.169983148574829, Validation Error = 4.36603307723999\n",
            "Epoch: 7, Training Loss: 0.0860259085893631, Validation Loss: 0.1297663226723671, Train Error = 2.3833489418029785, Validation Error = 2.811957359313965\n",
            "Epoch: 8, Training Loss: 0.08064072703321774, Validation Loss: 0.13555089384317398, Train Error = 1.4098632335662842, Validation Error = 2.8540596961975098\n",
            "Epoch: 9, Training Loss: 0.0603481096525987, Validation Loss: 0.1410040259361267, Train Error = 1.7069743871688843, Validation Error = 2.925809860229492\n",
            "Epoch: 10, Training Loss: 0.05190110517044862, Validation Loss: 0.12123261764645576, Train Error = 1.6365716457366943, Validation Error = 2.658133029937744\n",
            "Epoch: 11, Training Loss: 0.050944133661687374, Validation Loss: 0.12498137354850769, Train Error = 2.212608814239502, Validation Error = 2.732412338256836\n",
            "Epoch: 12, Training Loss: 0.04473133198916912, Validation Loss: 0.12493767589330673, Train Error = 1.7807027101516724, Validation Error = 2.7001583576202393\n",
            "Epoch: 13, Training Loss: 0.03366603748872876, Validation Loss: 0.12946143373847008, Train Error = 0.931884229183197, Validation Error = 2.713761329650879\n",
            "Epoch: 14, Training Loss: 0.03066138302286466, Validation Loss: 0.1278584972023964, Train Error = 0.9996193051338196, Validation Error = 2.727195978164673\n",
            "Epoch: 15, Training Loss: 0.027203465811908245, Validation Loss: 0.12802710384130478, Train Error = 0.6998424530029297, Validation Error = 2.6969845294952393\n",
            "Epoch: 16, Training Loss: 0.023216795176267624, Validation Loss: 0.1258954480290413, Train Error = 0.8368796110153198, Validation Error = 2.685178518295288\n",
            "Epoch: 17, Training Loss: 0.020732696323345106, Validation Loss: 0.12713253498077393, Train Error = 0.8556038737297058, Validation Error = 2.7001264095306396\n",
            "Epoch: 18, Training Loss: 0.018483426421880722, Validation Loss: 0.12956594675779343, Train Error = 0.757136344909668, Validation Error = 2.678626298904419\n",
            "Epoch: 19, Training Loss: 0.0174497136225303, Validation Loss: 0.12569954246282578, Train Error = 0.8408560752868652, Validation Error = 2.6574201583862305\n",
            "Epoch: 20, Training Loss: 0.017343101402123768, Validation Loss: 0.12242764234542847, Train Error = 0.8313054442405701, Validation Error = 2.5969743728637695\n",
            "Epoch: 21, Training Loss: 0.013547576265409589, Validation Loss: 0.12163837254047394, Train Error = 0.59628826379776, Validation Error = 2.5981147289276123\n",
            "Epoch: 22, Training Loss: 0.012061829833934704, Validation Loss: 0.12445924431085587, Train Error = 1.0653274059295654, Validation Error = 2.606457471847534\n",
            "Epoch: 23, Training Loss: 0.010560600397487482, Validation Loss: 0.12534868344664574, Train Error = 0.7188591361045837, Validation Error = 2.6224193572998047\n",
            "Epoch: 24, Training Loss: 0.009558896456534663, Validation Loss: 0.12813998758792877, Train Error = 0.3575889468193054, Validation Error = 2.6688826084136963\n",
            "Epoch: 25, Training Loss: 0.010180118416125575, Validation Loss: 0.12628579884767532, Train Error = 1.050450325012207, Validation Error = 2.63381028175354\n",
            "Epoch: 26, Training Loss: 0.007537522062193602, Validation Loss: 0.12556737288832664, Train Error = 0.31420642137527466, Validation Error = 2.634835958480835\n",
            "Epoch: 27, Training Loss: 0.007154296928395827, Validation Loss: 0.1259506642818451, Train Error = 0.5231791138648987, Validation Error = 2.614600896835327\n",
            "Epoch: 28, Training Loss: 0.0063280023556823535, Validation Loss: 0.12209572643041611, Train Error = 0.481292188167572, Validation Error = 2.5639634132385254\n",
            "Epoch: 29, Training Loss: 0.00631839126193275, Validation Loss: 0.12435124069452286, Train Error = 0.816089928150177, Validation Error = 2.5746419429779053\n",
            "Epoch: 30, Training Loss: 0.0046496797585859895, Validation Loss: 0.1255386658012867, Train Error = 0.3797716796398163, Validation Error = 2.5949339866638184\n",
            "Epoch: 31, Training Loss: 0.0049226481933146715, Validation Loss: 0.12789453193545341, Train Error = 0.41374263167381287, Validation Error = 2.608955144882202\n",
            "Epoch: 32, Training Loss: 0.00415527467460682, Validation Loss: 0.1283116713166237, Train Error = 0.2853771150112152, Validation Error = 2.629629611968994\n",
            "Epoch: 33, Training Loss: 0.0040907246875576675, Validation Loss: 0.12719649821519852, Train Error = 0.26744985580444336, Validation Error = 2.6157987117767334\n",
            "Epoch: 34, Training Loss: 0.0034921440916756787, Validation Loss: 0.1270597279071808, Train Error = 0.5625962018966675, Validation Error = 2.6064603328704834\n",
            "Epoch: 35, Training Loss: 0.0036598589698163173, Validation Loss: 0.12713631615042686, Train Error = 0.6118590235710144, Validation Error = 2.60748028755188\n",
            "Epoch: 36, Training Loss: 0.0034953294089064, Validation Loss: 0.12592634558677673, Train Error = 0.5559724569320679, Validation Error = 2.596055746078491\n",
            "Epoch: 37, Training Loss: 0.003442100714892149, Validation Loss: 0.12446068972349167, Train Error = 0.4005272686481476, Validation Error = 2.563377618789673\n",
            "Epoch: 38, Training Loss: 0.002790936967357993, Validation Loss: 0.12281152233481407, Train Error = 0.26293233036994934, Validation Error = 2.535449981689453\n",
            "Epoch: 39, Training Loss: 0.0027934364431227245, Validation Loss: 0.12364140152931213, Train Error = 0.304523229598999, Validation Error = 2.5358803272247314\n",
            "Epoch: 40, Training Loss: 0.0034637957578524947, Validation Loss: 0.12601275742053986, Train Error = 0.3033682405948639, Validation Error = 2.5482430458068848\n",
            "Epoch: 41, Training Loss: 0.0036561861634254456, Validation Loss: 0.12597794458270073, Train Error = 0.6074263453483582, Validation Error = 2.546476364135742\n",
            "Epoch: 42, Training Loss: 0.003813728573732078, Validation Loss: 0.13109158352017403, Train Error = 0.6677466630935669, Validation Error = 2.605189561843872\n",
            "Epoch: 43, Training Loss: 0.0028640172871140144, Validation Loss: 0.12868566066026688, Train Error = 0.3043779134750366, Validation Error = 2.590454578399658\n",
            "Epoch: 44, Training Loss: 0.0021966337614382305, Validation Loss: 0.1259928047657013, Train Error = 0.23393185436725616, Validation Error = 2.539271593093872\n",
            "Epoch: 45, Training Loss: 0.0022250167288196585, Validation Loss: 0.12201068177819252, Train Error = 0.5832489132881165, Validation Error = 2.505535364151001\n",
            "Epoch: 46, Training Loss: 0.0018507283239159733, Validation Loss: 0.1248711422085762, Train Error = 0.24462838470935822, Validation Error = 2.526521682739258\n",
            "Epoch: 47, Training Loss: 0.0021433393897799156, Validation Loss: 0.1288006193935871, Train Error = 0.449914813041687, Validation Error = 2.5908122062683105\n",
            "Epoch: 48, Training Loss: 0.0015624941055042048, Validation Loss: 0.12758760899305344, Train Error = 0.16756713390350342, Validation Error = 2.58455753326416\n",
            "Epoch: 49, Training Loss: 0.0019522278065172334, Validation Loss: 0.13064352050423622, Train Error = 0.29149895906448364, Validation Error = 2.5835225582122803\n"
          ],
          "name": "stdout"
        }
      ]
    },
    {
      "cell_type": "code",
      "metadata": {
        "id": "9hu6wx1ZF78p",
        "colab_type": "code",
        "outputId": "1cdd9ad7-3e73-40ab-ae26-458d86c629ea",
        "colab": {
          "base_uri": "https://localhost:8080/",
          "height": 1000
        }
      },
      "source": [
        "batch32 = CNNNet().cuda()\n",
        "optimizer32 = optim.Adam(batch32.parameters(), lr=0.00005)\n",
        "\n",
        "train_dataloader32 = DataLoader(train_dataset, batch_size=32, shuffle=True)\n",
        "val_dataloader32 = DataLoader(test_dataset, batch_size=32)\n",
        "\n",
        "train(model=batch32, optimizer=optimizer32, loss_fn=criterion,\n",
        "      train_loader=train_dataloader32, val_loader=val_dataloader32,\n",
        "      epochs=200, device=\"cuda\")"
      ],
      "execution_count": 0,
      "outputs": [
        {
          "output_type": "stream",
          "text": [
            "Epoch: 0, Training Loss: 4.49092161655426, Validation Loss: 6.3054423332214355, Train Error = 14.24123764038086, Validation Error = 33.313026428222656\n",
            "Epoch: 1, Training Loss: 1.14223051071167, Validation Loss: 5.115332126617432, Train Error = 17.095523834228516, Validation Error = 30.004972457885742\n",
            "Epoch: 2, Training Loss: 1.8871569633483887, Validation Loss: 4.823986530303955, Train Error = 17.138134002685547, Validation Error = 29.137975692749023\n",
            "Epoch: 3, Training Loss: 0.6569686035315195, Validation Loss: 4.844799518585205, Train Error = 8.682398796081543, Validation Error = 29.20076560974121\n",
            "Epoch: 4, Training Loss: 0.42024940252304077, Validation Loss: 4.6360344886779785, Train Error = 9.862226486206055, Validation Error = 28.564701080322266\n",
            "Epoch: 5, Training Loss: 0.717831015586853, Validation Loss: 3.9382076263427734, Train Error = 11.924656867980957, Validation Error = 26.32725715637207\n",
            "Epoch: 6, Training Loss: 0.45394842823346454, Validation Loss: 2.8452625274658203, Train Error = 7.540947914123535, Validation Error = 22.3778076171875\n",
            "Epoch: 7, Training Loss: 0.16823606689771017, Validation Loss: 1.7665777206420898, Train Error = 4.679812908172607, Validation Error = 17.632858276367188\n",
            "Epoch: 8, Training Loss: 0.23981094857056937, Validation Loss: 1.087139368057251, Train Error = 6.761831283569336, Validation Error = 13.832444190979004\n",
            "Epoch: 9, Training Loss: 0.277238334218661, Validation Loss: 0.8127806782722473, Train Error = 7.476831912994385, Validation Error = 11.960326194763184\n",
            "Epoch: 10, Training Loss: 0.14532086998224258, Validation Loss: 0.8148520588874817, Train Error = 4.376927852630615, Validation Error = 11.975556373596191\n",
            "Epoch: 11, Training Loss: 0.10687786092360814, Validation Loss: 0.7855504155158997, Train Error = 4.380453586578369, Validation Error = 11.758268356323242\n",
            "Epoch: 12, Training Loss: 0.154266357421875, Validation Loss: 0.600784957408905, Train Error = 5.467344284057617, Validation Error = 10.282905578613281\n",
            "Epoch: 13, Training Loss: 0.12459429105122884, Validation Loss: 0.3180287182331085, Train Error = 5.128551959991455, Validation Error = 7.4815144538879395\n",
            "Epoch: 14, Training Loss: 0.08080799629290898, Validation Loss: 0.15747728943824768, Train Error = 3.4761016368865967, Validation Error = 5.264598846435547\n",
            "Epoch: 15, Training Loss: 0.08831803500652313, Validation Loss: 0.12537816166877747, Train Error = 4.10122537612915, Validation Error = 4.697504997253418\n",
            "Epoch: 16, Training Loss: 0.0831355353196462, Validation Loss: 0.12848308682441711, Train Error = 3.7348268032073975, Validation Error = 4.75531530380249\n",
            "Epoch: 17, Training Loss: 0.06278686722119649, Validation Loss: 0.13661156594753265, Train Error = 2.783616781234741, Validation Error = 4.903430461883545\n",
            "Epoch: 18, Training Loss: 0.060089994221925735, Validation Loss: 0.13961917161941528, Train Error = 2.857495069503784, Validation Error = 4.957113265991211\n",
            "Epoch: 19, Training Loss: 0.062235297014315925, Validation Loss: 0.12313322722911835, Train Error = 3.1254923343658447, Validation Error = 4.65526008605957\n",
            "Epoch: 20, Training Loss: 0.052376398195823036, Validation Loss: 0.11182147264480591, Train Error = 3.1031134128570557, Validation Error = 4.436279773712158\n",
            "Epoch: 21, Training Loss: 0.04570037126541138, Validation Loss: 0.1099001094698906, Train Error = 2.160862684249878, Validation Error = 4.398001670837402\n",
            "Epoch: 22, Training Loss: 0.046960145235061646, Validation Loss: 0.10920419543981552, Train Error = 2.684682846069336, Validation Error = 4.384054660797119\n",
            "Epoch: 23, Training Loss: 0.03926131005088488, Validation Loss: 0.10921627283096313, Train Error = 2.5026745796203613, Validation Error = 4.3842973709106445\n",
            "Epoch: 24, Training Loss: 0.03728798218071461, Validation Loss: 0.11089355498552322, Train Error = 2.008297920227051, Validation Error = 4.417834758758545\n",
            "Epoch: 25, Training Loss: 0.039280171816547714, Validation Loss: 0.10955101996660233, Train Error = 2.868760585784912, Validation Error = 4.3910112380981445\n",
            "Epoch: 26, Training Loss: 0.03556249290704727, Validation Loss: 0.11099237948656082, Train Error = 2.89982271194458, Validation Error = 4.419802665710449\n",
            "Epoch: 27, Training Loss: 0.033550361171364784, Validation Loss: 0.11475957930088043, Train Error = 2.6252355575561523, Validation Error = 4.494183540344238\n",
            "Epoch: 28, Training Loss: 0.03175990159312884, Validation Loss: 0.11369109153747559, Train Error = 3.1716465950012207, Validation Error = 4.473212718963623\n",
            "Epoch: 29, Training Loss: 0.02964757662266493, Validation Loss: 0.11315643042325974, Train Error = 2.897817850112915, Validation Error = 4.462682247161865\n",
            "Epoch: 30, Training Loss: 0.027350409887731075, Validation Loss: 0.11462736129760742, Train Error = 2.836500644683838, Validation Error = 4.491594314575195\n",
            "Epoch: 31, Training Loss: 0.028343734020988148, Validation Loss: 0.11354364454746246, Train Error = 3.249446153640747, Validation Error = 4.470311164855957\n",
            "Epoch: 32, Training Loss: 0.023166252300143242, Validation Loss: 0.11653652042150497, Train Error = 2.3689639568328857, Validation Error = 4.528843879699707\n",
            "Epoch: 33, Training Loss: 0.023165406038363773, Validation Loss: 0.11869440972805023, Train Error = 2.462489128112793, Validation Error = 4.570581436157227\n",
            "Epoch: 34, Training Loss: 0.019735621909300487, Validation Loss: 0.11570507287979126, Train Error = 1.388648509979248, Validation Error = 4.512659072875977\n",
            "Epoch: 35, Training Loss: 0.01904698833823204, Validation Loss: 0.11564801633358002, Train Error = 1.7658202648162842, Validation Error = 4.511546611785889\n",
            "Epoch: 36, Training Loss: 0.01790994902451833, Validation Loss: 0.11563839018344879, Train Error = 1.4722365140914917, Validation Error = 4.511358737945557\n",
            "Epoch: 37, Training Loss: 0.016944223704437416, Validation Loss: 0.1163589358329773, Train Error = 1.948559284210205, Validation Error = 4.525392055511475\n",
            "Epoch: 38, Training Loss: 0.014809776718417803, Validation Loss: 0.11666984111070633, Train Error = 1.264538288116455, Validation Error = 4.531434059143066\n",
            "Epoch: 39, Training Loss: 0.01463076751679182, Validation Loss: 0.1159115731716156, Train Error = 1.5835349559783936, Validation Error = 4.516684532165527\n",
            "Epoch: 40, Training Loss: 0.015863689904411633, Validation Loss: 0.11511468887329102, Train Error = 1.8658260107040405, Validation Error = 4.501131534576416\n",
            "Epoch: 41, Training Loss: 0.013166126174231371, Validation Loss: 0.11608313024044037, Train Error = 1.692106008529663, Validation Error = 4.520025253295898\n",
            "Epoch: 42, Training Loss: 0.012739782532056173, Validation Loss: 0.11714854091405869, Train Error = 1.908954381942749, Validation Error = 4.540720462799072\n",
            "Epoch: 43, Training Loss: 0.012155476957559586, Validation Loss: 0.11665984988212585, Train Error = 1.3096855878829956, Validation Error = 4.5312395095825195\n",
            "Epoch: 44, Training Loss: 0.011202902222673098, Validation Loss: 0.1161702573299408, Train Error = 1.63616144657135, Validation Error = 4.521721363067627\n",
            "Epoch: 45, Training Loss: 0.010126165580004454, Validation Loss: 0.11583133786916733, Train Error = 1.1844940185546875, Validation Error = 4.515120506286621\n",
            "Epoch: 46, Training Loss: 0.010230587019274632, Validation Loss: 0.11632084101438522, Train Error = 1.6978203058242798, Validation Error = 4.524651050567627\n",
            "Epoch: 47, Training Loss: 0.009599459357559681, Validation Loss: 0.11622288078069687, Train Error = 1.3179795742034912, Validation Error = 4.522745609283447\n",
            "Epoch: 48, Training Loss: 0.009180199354887009, Validation Loss: 0.11607765406370163, Train Error = 1.3274809122085571, Validation Error = 4.519918918609619\n",
            "Epoch: 49, Training Loss: 0.007802170080443223, Validation Loss: 0.11639835685491562, Train Error = 1.0808132886886597, Validation Error = 4.526158809661865\n",
            "Epoch: 50, Training Loss: 0.008398689640065035, Validation Loss: 0.11612676084041595, Train Error = 1.4681535959243774, Validation Error = 4.520874977111816\n",
            "Epoch: 51, Training Loss: 0.0072667089601357775, Validation Loss: 0.11626037210226059, Train Error = 1.0488535165786743, Validation Error = 4.52347469329834\n",
            "Epoch: 52, Training Loss: 0.006685327040031552, Validation Loss: 0.11648774147033691, Train Error = 0.8435067534446716, Validation Error = 4.527896404266357\n",
            "Epoch: 53, Training Loss: 0.006473505559066932, Validation Loss: 0.11587201803922653, Train Error = 0.8574609160423279, Validation Error = 4.515913486480713\n",
            "Epoch: 54, Training Loss: 0.007003408235808213, Validation Loss: 0.11481864005327225, Train Error = 1.460679054260254, Validation Error = 4.495339870452881\n",
            "Epoch: 55, Training Loss: 0.006150255911052227, Validation Loss: 0.11597473174333572, Train Error = 1.0478060245513916, Validation Error = 4.517914772033691\n",
            "Epoch: 56, Training Loss: 0.005968101788312197, Validation Loss: 0.11524795740842819, Train Error = 0.8661114573478699, Validation Error = 4.50373649597168\n",
            "Epoch: 57, Training Loss: 0.005356287583708763, Validation Loss: 0.11564809828996658, Train Error = 1.1480501890182495, Validation Error = 4.511548042297363\n",
            "Epoch: 58, Training Loss: 0.004941966539869706, Validation Loss: 0.116017185151577, Train Error = 0.8497567772865295, Validation Error = 4.518741607666016\n",
            "Epoch: 59, Training Loss: 0.005021826286489765, Validation Loss: 0.11545632779598236, Train Error = 1.2367271184921265, Validation Error = 4.507805824279785\n",
            "Epoch: 60, Training Loss: 0.004780404114474853, Validation Loss: 0.11555838584899902, Train Error = 1.1465296745300293, Validation Error = 4.5097975730896\n",
            "Epoch: 61, Training Loss: 0.005449835366259019, Validation Loss: 0.11542684584856033, Train Error = 1.389294147491455, Validation Error = 4.507230281829834\n",
            "Epoch: 62, Training Loss: 0.004466422523061435, Validation Loss: 0.11712341010570526, Train Error = 1.1295101642608643, Validation Error = 4.540233612060547\n",
            "Epoch: 63, Training Loss: 0.004025615208471815, Validation Loss: 0.1159384474158287, Train Error = 0.8679789900779724, Validation Error = 4.517207622528076\n",
            "Epoch: 64, Training Loss: 0.0036428237799555063, Validation Loss: 0.11588005721569061, Train Error = 0.6867237687110901, Validation Error = 4.516070365905762\n",
            "Epoch: 65, Training Loss: 0.0035379916274299226, Validation Loss: 0.1158541664481163, Train Error = 0.9134111404418945, Validation Error = 4.515565872192383\n",
            "Epoch: 66, Training Loss: 0.0033749029195557037, Validation Loss: 0.11718480288982391, Train Error = 0.8275290131568909, Validation Error = 4.541423320770264\n",
            "Epoch: 67, Training Loss: 0.0031568019573266306, Validation Loss: 0.11722385883331299, Train Error = 0.9303357005119324, Validation Error = 4.542180061340332\n",
            "Epoch: 68, Training Loss: 0.0031424621120095253, Validation Loss: 0.11671895533800125, Train Error = 0.8345065116882324, Validation Error = 4.5323872566223145\n",
            "Epoch: 69, Training Loss: 0.0026848079481472573, Validation Loss: 0.1161828264594078, Train Error = 0.7039600014686584, Validation Error = 4.521965980529785\n",
            "Epoch: 70, Training Loss: 0.0024772409815341234, Validation Loss: 0.11655561625957489, Train Error = 0.6216463446617126, Validation Error = 4.529214859008789\n",
            "Epoch: 71, Training Loss: 0.002430858944232265, Validation Loss: 0.11680113524198532, Train Error = 0.7570828199386597, Validation Error = 4.533982753753662\n",
            "Epoch: 72, Training Loss: 0.002528487083812555, Validation Loss: 0.11600154638290405, Train Error = 0.6482596397399902, Validation Error = 4.518436431884766\n",
            "Epoch: 73, Training Loss: 0.002329223556444049, Validation Loss: 0.11633717268705368, Train Error = 0.8620096445083618, Validation Error = 4.52496862411499\n",
            "Epoch: 74, Training Loss: 0.0022935508750379086, Validation Loss: 0.11685263365507126, Train Error = 0.6661922335624695, Validation Error = 4.534981727600098\n",
            "Epoch: 75, Training Loss: 0.0023009101084123054, Validation Loss: 0.11711671203374863, Train Error = 0.582714855670929, Validation Error = 4.540103435516357\n",
            "Epoch: 76, Training Loss: 0.0021663911563033857, Validation Loss: 0.11585678160190582, Train Error = 0.7245529890060425, Validation Error = 4.515616416931152\n",
            "Epoch: 77, Training Loss: 0.0024340286618098617, Validation Loss: 0.11617960035800934, Train Error = 0.8361583352088928, Validation Error = 4.521903038024902\n",
            "Epoch: 78, Training Loss: 0.0018447398906573653, Validation Loss: 0.11832408607006073, Train Error = 0.6246588230133057, Validation Error = 4.563446044921875\n",
            "Epoch: 79, Training Loss: 0.0017568909873565037, Validation Loss: 0.11778546869754791, Train Error = 0.5239307284355164, Validation Error = 4.5530476570129395\n",
            "Epoch: 80, Training Loss: 0.0017584424155453842, Validation Loss: 0.11698178201913834, Train Error = 0.5462037324905396, Validation Error = 4.537487506866455\n",
            "Epoch: 81, Training Loss: 0.0013626757039067645, Validation Loss: 0.11700509488582611, Train Error = 0.41008126735687256, Validation Error = 4.537939548492432\n",
            "Epoch: 82, Training Loss: 0.0012652911245822906, Validation Loss: 0.11800732463598251, Train Error = 0.4259198307991028, Validation Error = 4.557333946228027\n",
            "Epoch: 83, Training Loss: 0.0013945193495601416, Validation Loss: 0.11763180792331696, Train Error = 0.5022409558296204, Validation Error = 4.550076961517334\n",
            "Epoch: 84, Training Loss: 0.0013120506967728336, Validation Loss: 0.11644624173641205, Train Error = 0.4517335593700409, Validation Error = 4.5270891189575195\n",
            "Epoch: 85, Training Loss: 0.001350250793620944, Validation Loss: 0.11609947681427002, Train Error = 0.47342583537101746, Validation Error = 4.520343780517578\n",
            "Epoch: 86, Training Loss: 0.0010902851354330778, Validation Loss: 0.11713134497404099, Train Error = 0.47539597749710083, Validation Error = 4.540387153625488\n",
            "Epoch: 87, Training Loss: 0.0012741928221657872, Validation Loss: 0.1167718768119812, Train Error = 0.34272852540016174, Validation Error = 4.533414363861084\n",
            "Epoch: 88, Training Loss: 0.00103994196979329, Validation Loss: 0.11589475721120834, Train Error = 0.4385097324848175, Validation Error = 4.516356468200684\n",
            "Epoch: 89, Training Loss: 0.0012694942221666377, Validation Loss: 0.11601294577121735, Train Error = 0.49104541540145874, Validation Error = 4.518658638000488\n",
            "Epoch: 90, Training Loss: 0.0009832438663579524, Validation Loss: 0.11737882345914841, Train Error = 0.47302892804145813, Validation Error = 4.5451812744140625\n",
            "Epoch: 91, Training Loss: 0.0010822252758468192, Validation Loss: 0.11592748016119003, Train Error = 0.5344735980033875, Validation Error = 4.516993999481201\n",
            "Epoch: 92, Training Loss: 0.0010803697902398806, Validation Loss: 0.11640773713588715, Train Error = 0.4196300208568573, Validation Error = 4.526340961456299\n",
            "Epoch: 93, Training Loss: 0.000946775428019464, Validation Loss: 0.11580991744995117, Train Error = 0.3994123041629791, Validation Error = 4.514703273773193\n",
            "Epoch: 94, Training Loss: 0.0010106954917622109, Validation Loss: 0.11724874377250671, Train Error = 0.4785618484020233, Validation Error = 4.542662143707275\n",
            "Epoch: 95, Training Loss: 0.0008856462663970888, Validation Loss: 0.11623935401439667, Train Error = 0.3907053768634796, Validation Error = 4.523065567016602\n",
            "Epoch: 96, Training Loss: 0.0009130259665350119, Validation Loss: 0.11683978885412216, Train Error = 0.4109591245651245, Validation Error = 4.534732818603516\n",
            "Epoch: 97, Training Loss: 0.0008803536960234245, Validation Loss: 0.1160278171300888, Train Error = 0.40235933661460876, Validation Error = 4.518948554992676\n",
            "Epoch: 98, Training Loss: 0.0007172282397126158, Validation Loss: 0.1165296882390976, Train Error = 0.37281492352485657, Validation Error = 4.528710842132568\n",
            "Epoch: 99, Training Loss: 0.0007900683946597079, Validation Loss: 0.11689586192369461, Train Error = 0.41792941093444824, Validation Error = 4.535820960998535\n",
            "Epoch: 100, Training Loss: 0.0007626452716067433, Validation Loss: 0.11595817655324936, Train Error = 0.4038621485233307, Validation Error = 4.517591953277588\n",
            "Epoch: 101, Training Loss: 0.000546629773452878, Validation Loss: 0.11623088270425797, Train Error = 0.31262707710266113, Validation Error = 4.52290153503418\n",
            "Epoch: 102, Training Loss: 0.0006860376549108574, Validation Loss: 0.11700550466775894, Train Error = 0.3057582378387451, Validation Error = 4.537947654724121\n",
            "Epoch: 103, Training Loss: 0.0005424020831317952, Validation Loss: 0.11775282770395279, Train Error = 0.3743376135826111, Validation Error = 4.5524163246154785\n",
            "Epoch: 104, Training Loss: 0.000586409141154339, Validation Loss: 0.1168060302734375, Train Error = 0.29490959644317627, Validation Error = 4.5340776443481445\n",
            "Epoch: 105, Training Loss: 0.0006286079975931594, Validation Loss: 0.11673106253147125, Train Error = 0.4323030710220337, Validation Error = 4.532622337341309\n",
            "Epoch: 106, Training Loss: 0.0007552058765819917, Validation Loss: 0.11634992063045502, Train Error = 0.507394552230835, Validation Error = 4.525216579437256\n",
            "Epoch: 107, Training Loss: 0.00038970442255958915, Validation Loss: 0.11553138494491577, Train Error = 0.25067025423049927, Validation Error = 4.509271144866943\n",
            "Epoch: 108, Training Loss: 0.00045649419189430773, Validation Loss: 0.11645714938640594, Train Error = 0.2989622950553894, Validation Error = 4.527301788330078\n",
            "Epoch: 109, Training Loss: 0.0003826266620308161, Validation Loss: 0.11724507063627243, Train Error = 0.19770804047584534, Validation Error = 4.542590618133545\n",
            "Epoch: 110, Training Loss: 0.0004183452498788635, Validation Loss: 0.11748959869146347, Train Error = 0.3389316201210022, Validation Error = 4.547325134277344\n",
            "Epoch: 111, Training Loss: 0.000387932697776705, Validation Loss: 0.11678288877010345, Train Error = 0.25825873017311096, Validation Error = 4.533628463745117\n",
            "Epoch: 112, Training Loss: 0.00031271340655318153, Validation Loss: 0.11628855764865875, Train Error = 0.19682350754737854, Validation Error = 4.524023056030273\n",
            "Epoch: 113, Training Loss: 0.00022083225970466933, Validation Loss: 0.11614922434091568, Train Error = 0.17156460881233215, Validation Error = 4.521312236785889\n",
            "Epoch: 114, Training Loss: 0.0003867147897835821, Validation Loss: 0.11636921763420105, Train Error = 0.34351953864097595, Validation Error = 4.525591850280762\n",
            "Epoch: 115, Training Loss: 0.000217845372390002, Validation Loss: 0.11695417761802673, Train Error = 0.18341262638568878, Validation Error = 4.536952018737793\n",
            "Epoch: 116, Training Loss: 0.0003693479181189711, Validation Loss: 0.11636309325695038, Train Error = 0.19807620346546173, Validation Error = 4.525472640991211\n",
            "Epoch: 117, Training Loss: 0.0001526160485809669, Validation Loss: 0.11653044074773788, Train Error = 0.15708789229393005, Validation Error = 4.528725624084473\n",
            "Epoch: 118, Training Loss: 0.00020073943111735085, Validation Loss: 0.11614825576543808, Train Error = 0.22390493750572205, Validation Error = 4.5212931632995605\n",
            "Epoch: 119, Training Loss: 0.00028909786487929523, Validation Loss: 0.11576082557439804, Train Error = 0.15049801766872406, Validation Error = 4.51374626159668\n",
            "Epoch: 120, Training Loss: 0.0006828725551410267, Validation Loss: 0.11603059619665146, Train Error = 0.4929041862487793, Validation Error = 4.519002914428711\n",
            "Epoch: 121, Training Loss: 0.00023753463998824978, Validation Loss: 0.11616739630699158, Train Error = 0.2738005220890045, Validation Error = 4.521665573120117\n",
            "Epoch: 122, Training Loss: 0.0005754897041091075, Validation Loss: 0.11717655509710312, Train Error = 0.2392388880252838, Validation Error = 4.541263580322266\n",
            "Epoch: 123, Training Loss: 0.000332105914518858, Validation Loss: 0.1163560077548027, Train Error = 0.21310441195964813, Validation Error = 4.52533483505249\n",
            "Epoch: 124, Training Loss: 0.0002816219542485972, Validation Loss: 0.11626473814249039, Train Error = 0.20660056173801422, Validation Error = 4.5235595703125\n",
            "Epoch: 125, Training Loss: 0.00027839766213825595, Validation Loss: 0.1169009655714035, Train Error = 0.2331591248512268, Validation Error = 4.535920143127441\n",
            "Epoch: 126, Training Loss: 0.0002918132910660158, Validation Loss: 0.11559399962425232, Train Error = 0.2582520544528961, Validation Error = 4.510492324829102\n",
            "Epoch: 127, Training Loss: 0.0002242188056698069, Validation Loss: 0.11564530432224274, Train Error = 0.20333734154701233, Validation Error = 4.511493682861328\n",
            "Epoch: 128, Training Loss: 0.0003830186906270683, Validation Loss: 0.11551475524902344, Train Error = 0.32060447335243225, Validation Error = 4.508946418762207\n",
            "Epoch: 129, Training Loss: 0.0004257883313888063, Validation Loss: 0.11601179838180542, Train Error = 0.2624090909957886, Validation Error = 4.518636703491211\n",
            "Epoch: 130, Training Loss: 0.00035683885410738486, Validation Loss: 0.11586374044418335, Train Error = 0.2808245122432709, Validation Error = 4.51575231552124\n",
            "Epoch: 131, Training Loss: 0.00022957730592073253, Validation Loss: 0.1161617636680603, Train Error = 0.24488522112369537, Validation Error = 4.5215559005737305\n",
            "Epoch: 132, Training Loss: 0.0003144193663805102, Validation Loss: 0.1165987178683281, Train Error = 0.20178067684173584, Validation Error = 4.530052185058594\n",
            "Epoch: 133, Training Loss: 0.0005151914859501024, Validation Loss: 0.1158924326300621, Train Error = 0.2416631281375885, Validation Error = 4.516311168670654\n",
            "Epoch: 134, Training Loss: 0.00035874044988304377, Validation Loss: 0.11604714393615723, Train Error = 0.2552180290222168, Validation Error = 4.519324779510498\n",
            "Epoch: 135, Training Loss: 0.00028315251984167844, Validation Loss: 0.1159423291683197, Train Error = 0.25054919719696045, Validation Error = 4.5172834396362305\n",
            "Epoch: 136, Training Loss: 0.0003385849825766248, Validation Loss: 0.11629757285118103, Train Error = 0.14818404614925385, Validation Error = 4.524198532104492\n",
            "Epoch: 137, Training Loss: 0.00019862631840320924, Validation Loss: 0.11556734144687653, Train Error = 0.19842974841594696, Validation Error = 4.50997257232666\n",
            "Epoch: 138, Training Loss: 0.00030540368607034907, Validation Loss: 0.11588715761899948, Train Error = 0.1374548375606537, Validation Error = 4.516208171844482\n",
            "Epoch: 139, Training Loss: 0.0006529651921785747, Validation Loss: 0.11540571600198746, Train Error = 0.1575409173965454, Validation Error = 4.506817817687988\n",
            "Epoch: 140, Training Loss: 0.00026177063894768554, Validation Loss: 0.11519517749547958, Train Error = 0.2578490674495697, Validation Error = 4.502704620361328\n",
            "Epoch: 141, Training Loss: 0.0005071433358049641, Validation Loss: 0.11574137210845947, Train Error = 0.21972452104091644, Validation Error = 4.513367176055908\n",
            "Epoch: 142, Training Loss: 0.0002693903613059471, Validation Loss: 0.11629284918308258, Train Error = 0.22380267083644867, Validation Error = 4.524106502532959\n",
            "Epoch: 143, Training Loss: 0.00028694074232286465, Validation Loss: 0.1154576912522316, Train Error = 0.2764042913913727, Validation Error = 4.5078325271606445\n",
            "Epoch: 144, Training Loss: 0.00023237199153906354, Validation Loss: 0.1156085878610611, Train Error = 0.2202824056148529, Validation Error = 4.510776996612549\n",
            "Epoch: 145, Training Loss: 0.0003801578617033859, Validation Loss: 0.11664137244224548, Train Error = 0.27507153153419495, Validation Error = 4.530880928039551\n",
            "Epoch: 146, Training Loss: 0.00032373845169786364, Validation Loss: 0.11577450484037399, Train Error = 0.31378546357154846, Validation Error = 4.514012813568115\n",
            "Epoch: 147, Training Loss: 0.00033815881276192766, Validation Loss: 0.11595376580953598, Train Error = 0.18716087937355042, Validation Error = 4.517506122589111\n",
            "Epoch: 148, Training Loss: 0.0004448143008630723, Validation Loss: 0.11565019935369492, Train Error = 0.34120017290115356, Validation Error = 4.511589050292969\n",
            "Epoch: 149, Training Loss: 0.00035877190142249066, Validation Loss: 0.1162913516163826, Train Error = 0.26405420899391174, Validation Error = 4.524077415466309\n",
            "Epoch: 150, Training Loss: 0.0005168024751280124, Validation Loss: 0.11503028869628906, Train Error = 0.3798324465751648, Validation Error = 4.499480724334717\n",
            "Epoch: 151, Training Loss: 0.00046144531612905365, Validation Loss: 0.11467196047306061, Train Error = 0.3773529827594757, Validation Error = 4.492467880249023\n",
            "Epoch: 152, Training Loss: 0.0005089882761240005, Validation Loss: 0.1168178990483284, Train Error = 0.23047129809856415, Validation Error = 4.534307956695557\n",
            "Epoch: 153, Training Loss: 0.0004416873465136935, Validation Loss: 0.1167839914560318, Train Error = 0.34029853343963623, Validation Error = 4.533649921417236\n",
            "Epoch: 154, Training Loss: 0.000436136625163878, Validation Loss: 0.11569501459598541, Train Error = 0.3373921811580658, Validation Error = 4.512463092803955\n",
            "Epoch: 155, Training Loss: 0.0005458877906979372, Validation Loss: 0.11641637235879898, Train Error = 0.4630710482597351, Validation Error = 4.526508808135986\n",
            "Epoch: 156, Training Loss: 0.0003738026813759158, Validation Loss: 0.1176818460226059, Train Error = 0.2690224349498749, Validation Error = 4.551044464111328\n",
            "Epoch: 157, Training Loss: 0.00036928278859704733, Validation Loss: 0.11668538302183151, Train Error = 0.27997204661369324, Validation Error = 4.531735420227051\n",
            "Epoch: 158, Training Loss: 0.0004091445783463617, Validation Loss: 0.1161164715886116, Train Error = 0.37161731719970703, Validation Error = 4.520674705505371\n",
            "Epoch: 159, Training Loss: 0.0003260461720249926, Validation Loss: 0.11622221022844315, Train Error = 0.24079695343971252, Validation Error = 4.522732257843018\n",
            "Epoch: 160, Training Loss: 0.00020138309143173197, Validation Loss: 0.1155695766210556, Train Error = 0.1834622174501419, Validation Error = 4.510015964508057\n",
            "Epoch: 161, Training Loss: 0.00026174174854531884, Validation Loss: 0.11539556086063385, Train Error = 0.24297991394996643, Validation Error = 4.506618976593018\n",
            "Epoch: 162, Training Loss: 0.0004805717714286099, Validation Loss: 0.11592628806829453, Train Error = 0.417359322309494, Validation Error = 4.516971111297607\n",
            "Epoch: 163, Training Loss: 0.00021520744000251094, Validation Loss: 0.11540528386831284, Train Error = 0.17560018599033356, Validation Error = 4.506808757781982\n",
            "Epoch: 164, Training Loss: 0.0004542040211769442, Validation Loss: 0.11488209664821625, Train Error = 0.36888962984085083, Validation Error = 4.49658203125\n",
            "Epoch: 165, Training Loss: 0.0004282767428473259, Validation Loss: 0.11498140543699265, Train Error = 0.184182271361351, Validation Error = 4.4985246658325195\n",
            "Epoch: 166, Training Loss: 0.00023712761079271635, Validation Loss: 0.1153789609670639, Train Error = 0.22906805574893951, Validation Error = 4.5062947273254395\n",
            "Epoch: 167, Training Loss: 0.00028651544319776195, Validation Loss: 0.11658847332000732, Train Error = 0.2834160625934601, Validation Error = 4.529853343963623\n",
            "Epoch: 168, Training Loss: 0.00041782397602219135, Validation Loss: 0.11670757830142975, Train Error = 0.38041695952415466, Validation Error = 4.532166481018066\n",
            "Epoch: 169, Training Loss: 0.0002828569510408367, Validation Loss: 0.11603214591741562, Train Error = 0.16173984110355377, Validation Error = 4.519032955169678\n",
            "Epoch: 170, Training Loss: 0.0003005564018773536, Validation Loss: 0.11573199927806854, Train Error = 0.2768852710723877, Validation Error = 4.513184547424316\n",
            "Epoch: 171, Training Loss: 0.0003380229657826324, Validation Loss: 0.11647991836071014, Train Error = 0.2158699631690979, Validation Error = 4.527744293212891\n",
            "Epoch: 172, Training Loss: 0.00032387871760874987, Validation Loss: 0.11559003591537476, Train Error = 0.27228856086730957, Validation Error = 4.510415077209473\n",
            "Epoch: 173, Training Loss: 0.0003715582909838607, Validation Loss: 0.11662832647562027, Train Error = 0.2473435401916504, Validation Error = 4.530627250671387\n",
            "Epoch: 174, Training Loss: 0.0003680024043812106, Validation Loss: 0.11635667085647583, Train Error = 0.3069927394390106, Validation Error = 4.52534818649292\n",
            "Epoch: 175, Training Loss: 0.0003328446376447876, Validation Loss: 0.1158432587981224, Train Error = 0.2473205178976059, Validation Error = 4.515353202819824\n",
            "Epoch: 176, Training Loss: 0.00034930814096393686, Validation Loss: 0.11499963700771332, Train Error = 0.23773199319839478, Validation Error = 4.4988813400268555\n",
            "Epoch: 177, Training Loss: 0.00035943537174413603, Validation Loss: 0.11545094847679138, Train Error = 0.2554476857185364, Validation Error = 4.5077009201049805\n",
            "Epoch: 178, Training Loss: 0.0003666640744389345, Validation Loss: 0.11581646651029587, Train Error = 0.32749927043914795, Validation Error = 4.514831066131592\n",
            "Epoch: 179, Training Loss: 0.000405777352474009, Validation Loss: 0.11673206835985184, Train Error = 0.346733957529068, Validation Error = 4.532642364501953\n",
            "Epoch: 180, Training Loss: 0.00042849139814885956, Validation Loss: 0.11579760909080505, Train Error = 0.26421213150024414, Validation Error = 4.514463424682617\n",
            "Epoch: 181, Training Loss: 0.00041848624823614955, Validation Loss: 0.11704941838979721, Train Error = 0.34386011958122253, Validation Error = 4.538798809051514\n",
            "Epoch: 182, Training Loss: 0.0002481722185621038, Validation Loss: 0.11578339338302612, Train Error = 0.24651792645454407, Validation Error = 4.514185905456543\n",
            "Epoch: 183, Training Loss: 0.00025268397682035965, Validation Loss: 0.11650235205888748, Train Error = 0.1959071010351181, Validation Error = 4.528180122375488\n",
            "Epoch: 184, Training Loss: 0.00043406554323155433, Validation Loss: 0.11527594923973083, Train Error = 0.20857585966587067, Validation Error = 4.5042829513549805\n",
            "Epoch: 185, Training Loss: 0.0003898565482813865, Validation Loss: 0.11457852274179459, Train Error = 0.3243454396724701, Validation Error = 4.490636825561523\n",
            "Epoch: 186, Training Loss: 0.00047101442760322243, Validation Loss: 0.11539942771196365, Train Error = 0.20410393178462982, Validation Error = 4.506694793701172\n",
            "Epoch: 187, Training Loss: 0.00018906009305889407, Validation Loss: 0.11634942889213562, Train Error = 0.1896345019340515, Validation Error = 4.525207042694092\n",
            "Epoch: 188, Training Loss: 0.00025418291382569197, Validation Loss: 0.11586808413267136, Train Error = 0.2970888018608093, Validation Error = 4.515836715698242\n",
            "Epoch: 189, Training Loss: 0.0004666084908725073, Validation Loss: 0.11559748649597168, Train Error = 0.39481303095817566, Validation Error = 4.510560512542725\n",
            "Epoch: 190, Training Loss: 0.00037333717530903715, Validation Loss: 0.11621610075235367, Train Error = 0.2580103278160095, Validation Error = 4.522614002227783\n",
            "Epoch: 191, Training Loss: 0.0003825779422186315, Validation Loss: 0.11641262471675873, Train Error = 0.24935778975486755, Validation Error = 4.526435852050781\n",
            "Epoch: 192, Training Loss: 0.0005797473810768375, Validation Loss: 0.11598576605319977, Train Error = 0.24508537352085114, Validation Error = 4.518129348754883\n",
            "Epoch: 193, Training Loss: 0.0004053315594016264, Validation Loss: 0.11643137037754059, Train Error = 0.28482845425605774, Validation Error = 4.526800155639648\n",
            "Epoch: 194, Training Loss: 0.00034637495991773903, Validation Loss: 0.11616699397563934, Train Error = 0.2519441843032837, Validation Error = 4.521657943725586\n",
            "Epoch: 195, Training Loss: 0.0003944212949136272, Validation Loss: 0.11526773869991302, Train Error = 0.27236294746398926, Validation Error = 4.504122257232666\n",
            "Epoch: 196, Training Loss: 0.00034220697125419974, Validation Loss: 0.11678990721702576, Train Error = 0.263884961605072, Validation Error = 4.533764839172363\n",
            "Epoch: 197, Training Loss: 0.0003340072095549355, Validation Loss: 0.1157408207654953, Train Error = 0.22460025548934937, Validation Error = 4.5133562088012695\n",
            "Epoch: 198, Training Loss: 0.00036725157406181097, Validation Loss: 0.11508681625127792, Train Error = 0.3183232247829437, Validation Error = 4.500586032867432\n",
            "Epoch: 199, Training Loss: 0.0002697852032724768, Validation Loss: 0.11633574217557907, Train Error = 0.1831747144460678, Validation Error = 4.5249409675598145\n"
          ],
          "name": "stdout"
        }
      ]
    },
    {
      "cell_type": "code",
      "metadata": {
        "id": "zxIWZDJTG01S",
        "colab_type": "code",
        "outputId": "8330f3ac-fdc7-4e7d-ef52-80db738a80d9",
        "colab": {
          "base_uri": "https://localhost:8080/",
          "height": 444
        }
      },
      "source": [
        "prediction1 = batch1(img)\n",
        "prediction2 = batch2(img)\n",
        "prediction4 = batch4(img)\n",
        "prediction8 = batch8(img)\n",
        "prediction16 = batch16(img)\n",
        "prediction32 = batch32(img)\n",
        "\n",
        "erro1 = abs(target-prediction1)\n",
        "erro2 = abs(target-prediction2)\n",
        "erro4 = abs(target-prediction4)\n",
        "erro8 = abs(target-prediction8)\n",
        "erro16 = abs(target-prediction16)\n",
        "erro32 = abs(target-prediction32)\n",
        "\n",
        "print(f'Vetor de erros:\\n1: {erro1}.\\n2: {erro2}.\\n4: {erro4}.\\n8: {erro8}.\\n16: {erro16}.\\n32: {erro32}.')\n",
        "print(f'Valores absolutos:\\n1: {erro1.sum()}.\\n2: {erro2.sum()}.\\n4: {erro4.sum()}.\\n8: {erro8.sum()}.\\n16: {erro16.sum()}.\\n32: {erro32.sum()}.')"
      ],
      "execution_count": 0,
      "outputs": [
        {
          "output_type": "stream",
          "text": [
            "Vetor de erros:\n",
            "1: tensor([[0.3646, 0.3178, 0.0880, 0.2354, 1.0936, 0.5633, 0.0282, 0.2171]],\n",
            "       device='cuda:0', grad_fn=<AbsBackward>).\n",
            "2: tensor([[0.3033, 0.0793, 0.0180, 0.2864, 0.9502, 0.5627, 0.1489, 0.2572]],\n",
            "       device='cuda:0', grad_fn=<AbsBackward>).\n",
            "4: tensor([[0.3616, 0.0374, 0.0050, 0.0480, 0.6784, 0.5677, 0.1584, 0.2341]],\n",
            "       device='cuda:0', grad_fn=<AbsBackward>).\n",
            "8: tensor([[0.3475, 0.5502, 0.0167, 0.4873, 0.5428, 0.5851, 0.0297, 0.0313]],\n",
            "       device='cuda:0', grad_fn=<AbsBackward>).\n",
            "16: tensor([[0.1400, 0.2075, 0.0405, 0.2426, 0.5420, 0.3763, 0.1480, 0.2767]],\n",
            "       device='cuda:0', grad_fn=<AbsBackward>).\n",
            "32: tensor([[0.1103, 0.1458, 0.0359, 0.1837, 0.4187, 0.2298, 0.0350, 0.1182]],\n",
            "       device='cuda:0', grad_fn=<AbsBackward>).\n",
            "Valores absolutos:\n",
            "1: 2.9080162048339844.\n",
            "2: 2.605923652648926.\n",
            "4: 2.0905797481536865.\n",
            "8: 2.5906524658203125.\n",
            "16: 1.9735791683197021.\n",
            "32: 1.277420997619629.\n"
          ],
          "name": "stdout"
        }
      ]
    },
    {
      "cell_type": "code",
      "metadata": {
        "id": "xJRkPz9XsOo0",
        "colab_type": "code",
        "outputId": "5026e222-6445-4891-b6db-0c5d7d2d5175",
        "colab": {
          "base_uri": "https://localhost:8080/",
          "height": 315
        }
      },
      "source": [
        "!pip install onnx\n",
        "!pip install onnxruntime"
      ],
      "execution_count": 0,
      "outputs": [
        {
          "output_type": "stream",
          "text": [
            "Requirement already satisfied: onnx in /usr/local/lib/python3.6/dist-packages (1.6.0)\n",
            "Requirement already satisfied: numpy in /usr/local/lib/python3.6/dist-packages (from onnx) (1.18.1)\n",
            "Requirement already satisfied: six in /usr/local/lib/python3.6/dist-packages (from onnx) (1.12.0)\n",
            "Requirement already satisfied: protobuf in /usr/local/lib/python3.6/dist-packages (from onnx) (3.10.0)\n",
            "Requirement already satisfied: typing-extensions>=3.6.2.1 in /usr/local/lib/python3.6/dist-packages (from onnx) (3.6.6)\n",
            "Requirement already satisfied: setuptools in /usr/local/lib/python3.6/dist-packages (from protobuf->onnx) (45.2.0)\n",
            "Requirement already satisfied: onnxruntime in /usr/local/lib/python3.6/dist-packages (1.2.0)\n",
            "Requirement already satisfied: onnx>=1.2.3 in /usr/local/lib/python3.6/dist-packages (from onnxruntime) (1.6.0)\n",
            "Requirement already satisfied: numpy>=1.18.0 in /usr/local/lib/python3.6/dist-packages (from onnxruntime) (1.18.1)\n",
            "Requirement already satisfied: protobuf in /usr/local/lib/python3.6/dist-packages (from onnx>=1.2.3->onnxruntime) (3.10.0)\n",
            "Requirement already satisfied: typing-extensions>=3.6.2.1 in /usr/local/lib/python3.6/dist-packages (from onnx>=1.2.3->onnxruntime) (3.6.6)\n",
            "Requirement already satisfied: six in /usr/local/lib/python3.6/dist-packages (from onnx>=1.2.3->onnxruntime) (1.12.0)\n",
            "Requirement already satisfied: setuptools in /usr/local/lib/python3.6/dist-packages (from protobuf->onnx>=1.2.3->onnxruntime) (45.2.0)\n"
          ],
          "name": "stdout"
        }
      ]
    },
    {
      "cell_type": "code",
      "metadata": {
        "id": "x0riSBZ1buT6",
        "colab_type": "code",
        "colab": {}
      },
      "source": [
        "import io\n",
        "import numpy as np\n",
        "\n",
        "from torch import nn\n",
        "import torch.utils.model_zoo as model_zoo\n",
        "import torch.onnx\n",
        "\n",
        "batch32 = CNNNet().cuda()\n",
        "\n",
        "batch32.eval()\n",
        "\n",
        "x = torch.randn(32, 1, 96, 96, requires_grad=True).to('cuda')\n",
        "torch_out = batch32(x)\n",
        "\n",
        "# torch.onnx.export(\n",
        "#     batch32,\n",
        "#     x,\n",
        "#     'model.onnx',\n",
        "#     export_params=True,\n",
        "# )"
      ],
      "execution_count": 0,
      "outputs": []
    },
    {
      "cell_type": "code",
      "metadata": {
        "id": "HEP2Lq5jsxGt",
        "colab_type": "code",
        "colab": {}
      },
      "source": [
        "import onnx\n",
        "\n",
        "onnx_model = onnx.load(\"model.onnx\")\n",
        "onnx.checker.check_model(onnx_model)"
      ],
      "execution_count": 0,
      "outputs": []
    },
    {
      "cell_type": "code",
      "metadata": {
        "id": "B2aISEYVsz9v",
        "colab_type": "code",
        "outputId": "866544e0-cdd3-454b-d4b1-0103b1405c27",
        "colab": {
          "base_uri": "https://localhost:8080/",
          "height": 38
        }
      },
      "source": [
        "import onnxruntime\n",
        "\n",
        "ort_session = onnxruntime.InferenceSession(\"model.onnx\")\n",
        "\n",
        "def to_numpy(tensor):\n",
        "    return tensor.detach().cpu().numpy() if tensor.requires_grad else tensor.cpu().numpy()\n",
        "\n",
        "# compute ONNX Runtime output prediction\n",
        "ort_inputs = {ort_session.get_inputs()[0].name: to_numpy(x)}\n",
        "ort_outs = ort_session.run(None, ort_inputs)\n",
        "\n",
        "# compare ONNX Runtime and PyTorch results\n",
        "np.testing.assert_allclose(to_numpy(torch_out), ort_outs[0], rtol=1e-03, atol=1e-05)\n",
        "\n",
        "print(\"Exported model has been tested with ONNXRuntime, and the result looks good!\")"
      ],
      "execution_count": 0,
      "outputs": [
        {
          "output_type": "stream",
          "text": [
            "Exported model has been tested with ONNXRuntime, and the result looks good!\n"
          ],
          "name": "stdout"
        }
      ]
    },
    {
      "cell_type": "code",
      "metadata": {
        "id": "V75bCZYItEd3",
        "colab_type": "code",
        "colab": {}
      },
      "source": [
        ""
      ],
      "execution_count": 0,
      "outputs": []
    }
  ]
}